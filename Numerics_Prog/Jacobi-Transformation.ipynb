{
 "cells": [
  {
   "cell_type": "markdown",
   "metadata": {},
   "source": [
    "# Jacobi Transformation of a Symmetric Matrix\n",
    "### Christina Lee\n",
    "### Category: Numerics\n",
    "\n",
    "### 1D Spin Chain Series\n",
    "* [Jacobi Transformation](../Numerics_Prog/Jacobi-Transformation.ipynb)\n",
    "* [1D Spin Chain Prerequisites](../Graduate/1D-Spin-Chain-Prerequisites.ipynb)\n",
    "* [1D Spin Chain Pt. 2](../Graduate/1D-Spin-Chain-2.ipynb)\n",
    "\n",
    "#### based on Numerical Recipes in C++, Sec 11.1"
   ]
  },
  {
   "cell_type": "markdown",
   "metadata": {},
   "source": [
    "So you want to diagonalize a matrix, do you?\n",
    "Well, if you have a tiny symmetric matrix, you REALLY want to write up the algorithm by hand, and don't want to spend much time trying to understand the algorithm, then you have come to the right place. \n",
    "\n",
    "Otherwise, use LAPACK/BLAS to call a highly optimized routine that can work extremely quickly on large matrices.  Julia has those libraries built in already.  Even if you do call those matrices, you can make them work better by understanding what's going on underneath the hood, which is why we are going through this now."
   ]
  },
  {
   "cell_type": "markdown",
   "metadata": {},
   "source": [
    "Start with a base Rotation Matrix of the Form\n",
    "\\begin{equation}\n",
    "    P_{pq} =\n",
    "    \\begin{pmatrix}\n",
    "           1& &  &  && && 0\\\\\n",
    "           & \\ddots &&&&  & \\\\\n",
    "            && c & \\cdots & s && \\\\\n",
    "                &&\\vdots& 1 & \\vdots &&\\\\\n",
    "               && -s & \\cdots & c && \\\\\n",
    "               &&&&& \\ddots & \\\\\n",
    "               0&&& &  && 1 \n",
    "    \\end{pmatrix}\n",
    "\\end{equation}\n",
    "\n",
    "From our starting arbitrary symmetric A,\n",
    "\\begin{equation}\n",
    "A^{T} = A\n",
    "\\end{equation}\n",
    "we will run a series of transformations,\n",
    "\\begin{equation}\n",
    "A^{\\prime}= P^{T}_{pq} \\cdot A \\cdot P_{pq}\n",
    "\\end{equation}\n",
    "where each iteration brings A closer to diagonal form.  Thus in our implementing our algorithm, we need to determine two things\n",
    "<ul>\n",
    "<li> The values of c and s\n",
    "<li> The pattern of sweeping p and q\n",
    "</ul>\n",
    "And in the end we will need to finally determine if this actually converges, and if has any sort of efficiency."
   ]
  },
  {
   "cell_type": "markdown",
   "metadata": {},
   "source": [
    "So lets expand one transformation, and we if we can solve for $c$ and $s$.\n",
    "\n",
    "\\begin{align}\n",
    "a^{\\prime}_{rp} & = c a_{rp} - s a_{rq} \\\\\n",
    "a^{\\prime}_{rq} & = c a_{rq} + s a_{rp} \\\\ \n",
    "a^{\\prime}_{pp} & = c^2 a_{pp} + s^2 a_{qq} -2 sc a_{pq} \\\\\n",
    "a^{\\prime}_{qq} & = s^2 a_{qq} + c^2 a_{qq} + 2sc a_{pq} \\\\\n",
    "a^{\\prime}_{pq} & = \\left( c^2-s^2 \\right) a_{pq} + sc \\left(a_{pq} - a_{qq} \\right)\n",
    "\\end{align}"
   ]
  },
  {
   "cell_type": "markdown",
   "metadata": {},
   "source": [
    "## Determining $s$ and $c$\n",
    "Given we specifically want $a^{\\prime}_{pq}$ to be zero, we re-arrange the last equation,\n",
    "\\begin{equation}\n",
    "        \\frac{c^2-s^2}{2 sc} = \\frac{a_{pq}-a_{qq}}{2 a_{pq}} =\\theta\n",
    "\\end{equation}\n",
    "At first glance, this equation might not look easier to solve for $s$ or $c$.  Second either. We define a new parameter $t = s/c$, which now makes the equation,\n",
    "\\begin{equation}\n",
    "\\frac{1-t^2}{2 t} = \\theta \\;\\;\\;\\; \\implies \\;\\;\\; t^2 -2 \\theta t -1=0,\n",
    "\\end{equation}\n",
    "now quite easily solvable by our friendly quadratic formula.  Though the book does recommend using form that pulls out smaller root through\n",
    "\\begin{equation}\n",
    "t=\\frac{\\text{sgn}(\\theta)}{|\\theta| + \\sqrt{\\theta^2 + 1} }.\n",
    "\\end{equation}\n",
    "Then reverse solve back to\n",
    "\\begin{align}\n",
    "c&=\\frac{1}{\\sqrt{t^2+1}}\\\\\n",
    "s&=tc\n",
    "\\end{align}\n",
    "\n",
    "Though we could use the expressions above, if we simplify them with our new expressions for $c$ and $s$ analytically, we reduce computational load and round off error. These new expressions are\n",
    "\\begin{align}\n",
    "a^{\\prime}_{pq} & = 0\\\\\n",
    "a^{\\prime}_{qq} & = a_{qq} + t a_{qp} \\\\\n",
    "a^{\\prime}_{pp} &= a_{pp} - t a_{pq} \\\\\n",
    "a^{\\prime}_{rp} &= a_{rp} - s \\left( a_{rq} +\\tau a_{rp} \\right) \\\\\n",
    "a^{\\prime}_{rq} &= a_{rq} + s \\left( a_{rp} -\\tau a_{rq} \\right)\n",
    "\\end{align}\n",
    "with the new variable\n",
    "\\begin{equation}\n",
    "\\tau = \\frac{s}{1+c}\n",
    "\\end{equation}\n",
    "\n",
    "## Convergence\n",
    "\n",
    "The sum of the squares of the off diagonal elements (choosen in either upper or lower triagnles arbitrarily)\n",
    "\\begin{equation}\n",
    "S=\\sum\\limits_{r < s} |a_{rs}|^2\n",
    "\\end{equation}\n",
    "\n",
    "## Eigenvectors\n",
    "\n",
    "By forming a product of every rotation matrix, we also come to approximate the matrix $V$ where \n",
    "\\begin{equation}\n",
    "D = V^{T} \\cdot A \\cdot V\n",
    "\\end{equation}\n",
    "and $D$ is the diagonal form of $A$.  $V$ is computed through itereative computation\n",
    "\\begin{align}\n",
    "V^{\\prime} & = V \\cdot P_i \\\\\n",
    "v^{\\prime}_{rs} &= v_{rs} \\\\\n",
    "v^{\\prime}_{rp} &= c v_{rp} - s v_{rq} \\\\\n",
    "v^{\\prime}_{rq} &= s v_{rp} + c v_{rq} \n",
    "\\end{align}\n",
    "\n",
    "### Enough with the talking! LETS COMPUTE STUFF"
   ]
  },
  {
   "cell_type": "code",
   "execution_count": 1,
   "metadata": {},
   "outputs": [],
   "source": [
    "using LinearAlgebra"
   ]
  },
  {
   "cell_type": "code",
   "execution_count": 2,
   "metadata": {},
   "outputs": [
    {
     "data": {
      "text/plain": [
       "convergence (generic function with 1 method)"
      ]
     },
     "execution_count": 2,
     "metadata": {},
     "output_type": "execute_result"
    }
   ],
   "source": [
    "# First, Lets make our nice, helpful functions\n",
    "\n",
    "## A function to look at the convergence\n",
    "function convergence(A::Array)\n",
    "    num=0.0\n",
    "    l=size(A)[1]\n",
    "    for ii in 1:(l-1)\n",
    "        for jj in (ii+1):l ## just looking at the lower triangle\n",
    "            num+=A[ii,jj]^2\n",
    "            #println(ii,' ',jj,' ',num,' ',A[ii,jj])\n",
    "        end\n",
    "    end\n",
    "    return num\n",
    "end"
   ]
  },
  {
   "cell_type": "code",
   "execution_count": 3,
   "metadata": {},
   "outputs": [
    {
     "data": {
      "text/plain": [
       "roundmatrix (generic function with 1 method)"
      ]
     },
     "execution_count": 3,
     "metadata": {},
     "output_type": "execute_result"
    }
   ],
   "source": [
    "# This makes a matrix easier to look at when its filled \n",
    "# with 1.043848974e-12 everywhere\n",
    "function roundmatrix(A::Array,rtol::Real)\n",
    "    Ap=copy(A)\n",
    "    for ii in 1:length(A)\n",
    "        if abs(Ap[ii])<rtol \n",
    "            Ap[ii]=0\n",
    "        end\n",
    "    end\n",
    "    return Ap;\n",
    "end"
   ]
  },
  {
   "cell_type": "code",
   "execution_count": 4,
   "metadata": {},
   "outputs": [
    {
     "data": {
      "text/plain": [
       "makeA (generic function with 1 method)"
      ]
     },
     "execution_count": 4,
     "metadata": {},
     "output_type": "execute_result"
    }
   ],
   "source": [
    "## Here we create a random symmetric matrix\n",
    "function makeA(n)\n",
    "    A=randn(n,n);\n",
    "    for ii in 1:n\n",
    "        A[ii,1:ii]=transpose(A[1:ii,ii]) \n",
    "    end\n",
    "    V=Matrix{Float64}(I,n,n) #initializing the orthogonal transformation\n",
    "    return A,copy(A),V\n",
    "end\n",
    "## One A returned will be stored to compare initial and final"
   ]
  },
  {
   "cell_type": "code",
   "execution_count": 5,
   "metadata": {},
   "outputs": [
    {
     "data": {
      "text/plain": [
       "Rotate (generic function with 1 method)"
      ]
     },
     "execution_count": 5,
     "metadata": {},
     "output_type": "execute_result"
    }
   ],
   "source": [
    "#Now on to the Rotations!\n",
    "\n",
    "# We don't always want to compute the eigenvectors, so those are in the \n",
    "# optional entries slot. \n",
    "# Both tell the function to compute the vectors with computeV=true\n",
    "# and input the V=V after the semicolon.\n",
    "\n",
    "function Rotate(A::Array,p::Int,q::Int; computeV=false, V::Array=Matrix{Float64}(I,1,1) )\n",
    "    θ=(A[q,q]-A[p,p])/(2*A[p,q]);\n",
    "    t=sign(θ)/(abs(θ)+sqrt(θ^2+1));\n",
    "    \n",
    "    c=1/sqrt(t^2+1)\n",
    "    s=t*c\n",
    "    τ=s/(1+c)\n",
    "    \n",
    "    l=size(A)[1]\n",
    "    Ap=copy(A[:,p])\n",
    "    Aq=copy(A[:,q])\n",
    "    for r in 1:l\n",
    "        A[r,p]=Ap[r]-s*(Aq[r]+τ*Ap[r]) \n",
    "        A[r,q]=Aq[r]+s*(Ap[r]-τ*Aq[r])\n",
    "        \n",
    "        A[p,r]=A[r,p]\n",
    "        A[q,r]=A[r,q]\n",
    "    end\n",
    "    A[p,q]=0\n",
    "    A[q,p]=0\n",
    "    A[p,p]=Ap[p]-t*Aq[p]\n",
    "    A[q,q]=Aq[q]+t*Aq[p]\n",
    "    \n",
    "    if computeV==true\n",
    "        Vp=copy(V[:,p])\n",
    "        Vq=copy(V[:,q])    \n",
    "        for r in 1:l   \n",
    "            V[r,p]=c*Vp[r]-s*Vq[r]\n",
    "            V[r,q]=s*Vp[r]+c*Vq[r]\n",
    "        end\n",
    "        return A,V\n",
    "    else\n",
    "        return A;\n",
    "    end\n",
    "end"
   ]
  },
  {
   "cell_type": "code",
   "execution_count": 6,
   "metadata": {},
   "outputs": [
    {
     "data": {
      "text/plain": [
       "Sweep (generic function with 1 method)"
      ]
     },
     "execution_count": 6,
     "metadata": {},
     "output_type": "execute_result"
    }
   ],
   "source": [
    "# This function performs one sweep\n",
    "function Sweep(A;compV=false,V=Matrix{Float64}(I,1,1))\n",
    "    n=size(A)[1]\n",
    "    for ii in 2:n\n",
    "        for jj in 1:(ii-1) ## Just over one triangle\n",
    "            if compV==false\n",
    "                A=Rotate(A,ii,jj)\n",
    "            else\n",
    "                A,V=Rotate(A,ii,jj;computeV=true,V=V);\n",
    "            end\n",
    "        end\n",
    "    end\n",
    "    \n",
    "    if compV==false\n",
    "        return A\n",
    "    else\n",
    "        return A,V\n",
    "    end \n",
    "end"
   ]
  },
  {
   "cell_type": "code",
   "execution_count": 7,
   "metadata": {},
   "outputs": [],
   "source": [
    "A,A0,V=makeA(5);"
   ]
  },
  {
   "cell_type": "code",
   "execution_count": 12,
   "metadata": {},
   "outputs": [
    {
     "data": {
      "text/plain": [
       "5×5 Array{Float64,2}:\n",
       " 2.75547   0.0     0.0      0.0        0.0    \n",
       " 0.0      -1.0683  0.0      0.0        0.0    \n",
       " 0.0       0.0     1.20611  0.0        0.0    \n",
       " 0.0       0.0     0.0      0.734884   0.0    \n",
       " 0.0       0.0     0.0      0.0       -1.48581"
      ]
     },
     "metadata": {},
     "output_type": "display_data"
    },
    {
     "data": {
      "text/plain": [
       "5×5 Array{Float64,2}:\n",
       "  2.75547       1.03898e-31  6.65473e-46   -1.20864e-52  -4.52913e-60 \n",
       "  1.03898e-31  -1.0683       4.25018e-46   -2.9053e-69    1.37672e-80 \n",
       "  6.65473e-46   4.25018e-46  1.20611        1.91399e-75   5.09273e-116\n",
       " -1.20864e-52  -2.9053e-69   1.91399e-75    0.734884      0.0         \n",
       " -4.52913e-60   1.37672e-80  5.09273e-116   0.0          -1.48581     "
      ]
     },
     "metadata": {},
     "output_type": "display_data"
    },
    {
     "data": {
      "text/plain": [
       "5×5 Array{Float64,2}:\n",
       "  0.702867    0.340672  -0.613045  0.0266825  -0.115695 \n",
       " -0.0750998   0.373435   0.239379  0.773343   -0.446705 \n",
       "  0.597584   -0.208098   0.484961  0.308218    0.519041 \n",
       " -0.0642891  -0.754388  -0.459432  0.458861   -0.0716542\n",
       " -0.37296     0.363431  -0.347289  0.309317    0.715913 "
      ]
     },
     "metadata": {},
     "output_type": "display_data"
    },
    {
     "data": {
      "text/plain": [
       "1.0794844600380612e-62"
      ]
     },
     "metadata": {},
     "output_type": "display_data"
    }
   ],
   "source": [
    "## keep evaluating for a couple iterations\n",
    "## watch how it changes\n",
    "A,V=Sweep(A;compV=true,V=V);\n",
    "display(roundmatrix(A,1e-10))\n",
    "display(A)\n",
    "display(V)\n",
    "display(convergence(A))"
   ]
  },
  {
   "cell_type": "code",
   "execution_count": 13,
   "metadata": {},
   "outputs": [
    {
     "data": {
      "text/plain": [
       "Eigen{Float64,Float64,Array{Float64,2},Array{Float64,1}}\n",
       "eigenvalues:\n",
       "5-element Array{Float64,1}:\n",
       " -1.4858101513857376\n",
       " -1.068298321190819 \n",
       "  0.7348837698415409\n",
       "  1.206106933351782 \n",
       "  2.755472216052164 \n",
       "eigenvectors:\n",
       "5×5 Array{Float64,2}:\n",
       " -0.115695   -0.340672  -0.0266825   0.613045   0.702867 \n",
       " -0.446705   -0.373435  -0.773343   -0.239379  -0.0750998\n",
       "  0.519041    0.208098  -0.308218   -0.484961   0.597584 \n",
       " -0.0716542   0.754388  -0.458861    0.459432  -0.0642891\n",
       "  0.715913   -0.363431  -0.309317    0.347289  -0.37296  "
      ]
     },
     "execution_count": 13,
     "metadata": {},
     "output_type": "execute_result"
    }
   ],
   "source": [
    "## Compare the Optimized LAPLACK routine to your results\n",
    "eigen(A0)"
   ]
  },
  {
   "cell_type": "code",
   "execution_count": 16,
   "metadata": {},
   "outputs": [
    {
     "data": {
      "text/plain": [
       "5×5 Array{Float64,2}:\n",
       " 0.0  0.0  0.0  0.0  0.0\n",
       " 0.0  0.0  0.0  0.0  0.0\n",
       " 0.0  0.0  0.0  0.0  0.0\n",
       " 0.0  0.0  0.0  0.0  0.0\n",
       " 0.0  0.0  0.0  0.0  0.0"
      ]
     },
     "execution_count": 16,
     "metadata": {},
     "output_type": "execute_result"
    }
   ],
   "source": [
    "## A good check to make sure V is an orthonomal transformation\n",
    "roundmatrix(V*A*transpose(V)-A0,1e-12)"
   ]
  },
  {
   "cell_type": "code",
   "execution_count": 15,
   "metadata": {},
   "outputs": [
    {
     "name": "stdout",
     "output_type": "stream",
     "text": [
      "  0.000016 seconds (230 allocations: 32.594 KiB)\n",
      "  0.000069 seconds (955 allocations: 196.188 KiB)\n",
      "  0.008129 seconds (24.75 k allocations: 17.372 MiB, 27.48% gc time)\n"
     ]
    }
   ],
   "source": [
    "# How long does it take to make a Sweep?\n",
    "# How much memory will the computation take?\n",
    "# This is dependent on how large the matrix is\n",
    "A,A0,V=makeA(10);\n",
    "@time Sweep(A);\n",
    "A,A0,V=makeA(20);\n",
    "@time Sweep(A);\n",
    "A,A0,V=makeA(100);\n",
    "@time Sweep(A);"
   ]
  },
  {
   "cell_type": "markdown",
   "metadata": {},
   "source": [
    "In addition to time per sweep, we need to know how many sweeps we need to run. So again we run it on a 10x10, 20x20, and 100x100. The efficiency of the algorithm would get a lot worse if we have to sweep the 100x100 a bunch of times."
   ]
  },
  {
   "cell_type": "code",
   "execution_count": 21,
   "metadata": {},
   "outputs": [
    {
     "data": {
      "text/plain": [
       "7×4 Array{Float64,2}:\n",
       " 1.0  1.74923       2.64638      14.7488     \n",
       " 2.0  0.0945499     0.422473      2.80609    \n",
       " 3.0  0.000314227   0.0162891     0.399226   \n",
       " 4.0  6.31792e-10   1.09268e-5    0.0356924  \n",
       " 5.0  3.62048e-22   1.18607e-11   0.000598666\n",
       " 6.0  9.38425e-48   7.94096e-26   3.28477e-7 \n",
       " 7.0  1.14895e-112  1.23362e-55   6.11775e-13"
      ]
     },
     "execution_count": 21,
     "metadata": {},
     "output_type": "execute_result"
    }
   ],
   "source": [
    "A10,Ap10,V=makeA(10);\n",
    "A20,Ap20,V=makeA(20);\n",
    "A100,Ap100,V=makeA(100);\n",
    "nsweep=collect(1:7);\n",
    "conv10=zeros(7)\n",
    "conv20=zeros(7)\n",
    "conv100=zeros(7)\n",
    "for i in nsweep\n",
    "    A10=Sweep(A10)\n",
    "    A20=Sweep(A20)\n",
    "    A100=Sweep(A100)\n",
    "    conv10[i]=convergence(A10)\n",
    "    conv20[i]=convergence(A20)\n",
    "    conv100[i]=convergence(A100)\n",
    "end\n",
    "\n",
    "[nsweep conv10/10 conv20/20 conv100/100]"
   ]
  },
  {
   "cell_type": "markdown",
   "metadata": {
    "collapsed": true
   },
   "source": [
    "Well, so we've seen how to do one form of exact diagonalization that works, but doesn't scale very well up to 100x100 matrices.  So stay tuned for the Householder method, hopefully coming up soon.\n",
    "\n",
    "Until then, happy computing :)"
   ]
  },
  {
   "cell_type": "code",
   "execution_count": null,
   "metadata": {},
   "outputs": [],
   "source": []
  }
 ],
 "metadata": {
  "@webio": {
   "lastCommId": null,
   "lastKernelId": null
  },
  "kernelspec": {
   "display_name": "Julia 1.0.1",
   "language": "julia",
   "name": "julia-1.0"
  },
  "language_info": {
   "file_extension": ".jl",
   "mimetype": "application/julia",
   "name": "julia",
   "version": "1.0.1"
  }
 },
 "nbformat": 4,
 "nbformat_minor": 1
}
