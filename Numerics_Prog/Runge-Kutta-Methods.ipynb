{
 "cells": [
  {
   "cell_type": "markdown",
   "metadata": {},
   "source": [
    "# Ordinary Differential Equation Solvers: Runge-Kutta Methods\n",
    "## Christina Lee\n",
    "\n",
    "So what's an <i>Ordinary Differential Equation</i>?\n",
    "\n",
    "Differential Equation means we have some equation (or equations) that have derivatives in them.  \n",
    "\n",
    "The <i>ordinary</i> part differentiates them from <i>partial</i> differential equations (the ones with curly $\\partial$ derivatives).  Here, we only have one <b>independent</b> variable (let's call it $t$), and one or more <b>dependent</b>  variables (let's call them $x_1, x_2, ...$).  In partial differential equations, we can have more than one independent variable.\n",
    "\n",
    "This ODE can either be written as a system of the form\n",
    "$$\n",
    "\\frac{d x_1}{dt}=f_1(t,x_1,x_2,...,x_n)\n",
    "$$\n",
    "$$\n",
    "\\frac{d x_2}{dt}=f_2(t,x_1,x_2,...,x_n)\n",
    "$$\n",
    "...\n",
    "$$\n",
    "\\frac{d x_n}{dt}=f_n(t,x_1,x_n,...,x_n)\n",
    "$$\n",
    "or a single n'th order ODE of the form\n",
    "$$\n",
    "f_n(t,x) \\frac{d^n x}{dt^n}+...+f_1(t,x) \\frac{dx}{dt}+f_0(t,x)=0\n",
    "$$\n",
    "that can be rewritten in terms of a system of first order equations by performing variable substitutions such as\n",
    "$$\n",
    "\\frac{d^i x}{dt^i}=x_i\n",
    "$$\n",
    "\n",
    "Though STEM students such as I have probably spent thousands of hours pouring of ways to analytically solve both ordinary and partial differential equations, unfortunately, the real world is rarely so kind as to provide us with an exactly solvable differential equation.  At least for interesting problems.  \n",
    "\n",
    "We can sometimes approximate the real world as an exactly solvable situation, but for the situation we are interested in, we have to turn to numerics.  I'm not saying those thousand different analytic methods are for nothing.  We need an idea ahead of time of what the differential equation should be doing, to tell if it's misbehaving or not.  We can't just blindly plug and chug.  \n",
    "\n",
    "Today will be about introducing four different methods based on Taylor expansion to a specific order, also known as Runge-Kutta Methods.  We can improve these methods with adaptive stepsize control, but that is a topic for another time, just like the other modern types of solvers such as Richardson extrapolation and predictor-corrector.  \n",
    "\n",
    "Nonetheless, to work with ANY computational differential equation solver, you need to understand the fundamentals of routines like Euler and Runge-Kutta, their error propagation, and where they can go wrong. Otherwise, you might misinterpret the results of more advanced methods. \n",
    "\n",
    "<b>WARNING:</b> If you need to solve a troublesome differential equation for a research problem, use a package, like [DifferentialEquations](https://github.com/JuliaDiffEq/DifferentialEquations.jl).  These packages have much better error handling and optimization.\n",
    "\n",
    "Let's first add our plotting package and colors."
   ]
  },
  {
   "cell_type": "code",
   "execution_count": 1,
   "metadata": {},
   "outputs": [
    {
     "data": {
      "text/html": [
       "    <script class='js-collapse-script'>\n",
       "        var curMatch =\n",
       "            window.location.href\n",
       "            .match(/(.*?)\\/notebooks\\/.*\\.ipynb/);\n",
       "\n",
       "        curMatch = curMatch ||\n",
       "            window.location.href\n",
       "            .match(/(.*?)\\/apps\\/.*\\.ipynb/);\n",
       "\n",
       "        if ( curMatch ) {\n",
       "            $('head').append('<base href=\"' + curMatch[1] + '/\">');\n",
       "        }\n",
       "    </script>\n"
      ],
      "text/plain": [
       "HTML{String}(\"    <script class='js-collapse-script'>\\n        var curMatch =\\n            window.location.href\\n            .match(/(.*?)\\\\/notebooks\\\\/.*\\\\.ipynb/);\\n\\n        curMatch = curMatch ||\\n            window.location.href\\n            .match(/(.*?)\\\\/apps\\\\/.*\\\\.ipynb/);\\n\\n        if ( curMatch ) {\\n            \\$('head').append('<base href=\\\"' + curMatch[1] + '/\\\">');\\n        }\\n    </script>\\n\")"
      ]
     },
     "metadata": {},
     "output_type": "display_data"
    },
    {
     "data": {
      "text/html": [
       "<script class='js-collapse-script' src='/assetserver/64a7ce9663f24dbec2e2f9486130583ce8a809fa-assets/webio/dist/bundle.js'></script>"
      ],
      "text/plain": [
       "HTML{String}(\"<script class='js-collapse-script' src='/assetserver/64a7ce9663f24dbec2e2f9486130583ce8a809fa-assets/webio/dist/bundle.js'></script>\")"
      ]
     },
     "metadata": {},
     "output_type": "display_data"
    },
    {
     "data": {
      "text/html": [
       "<script class='js-collapse-script' src='/assetserver/64a7ce9663f24dbec2e2f9486130583ce8a809fa-assets/providers/ijulia_setup.js'></script>"
      ],
      "text/plain": [
       "HTML{String}(\"<script class='js-collapse-script' src='/assetserver/64a7ce9663f24dbec2e2f9486130583ce8a809fa-assets/providers/ijulia_setup.js'></script>\")"
      ]
     },
     "metadata": {},
     "output_type": "display_data"
    },
    {
     "data": {
      "text/html": [
       "  <script class='js-collapse-script'>\n",
       "    $('.js-collapse-script').parent('.output_subarea').css('padding', '0');\n",
       "  </script>\n"
      ],
      "text/plain": [
       "HTML{String}(\"  <script class='js-collapse-script'>\\n    \\$('.js-collapse-script').parent('.output_subarea').css('padding', '0');\\n  </script>\\n\")"
      ]
     },
     "metadata": {},
     "output_type": "display_data"
    },
    {
     "data": {
      "text/plain": [
       "Plots.PlotlyJSBackend()"
      ]
     },
     "execution_count": 1,
     "metadata": {},
     "output_type": "execute_result"
    }
   ],
   "source": [
    "using Plots\n",
    "plotlyjs()\n"
   ]
  },
  {
   "cell_type": "markdown",
   "metadata": {},
   "source": [
    "We will be benchmarking our solvers on one of the simplest and most common ODE's,\n",
    "\n",
    "\\begin{equation}\n",
    "\\frac{d}{d t}x=x \\;\\;\\;\\;\\;\\;\\; x(t)=C e^t\n",
    "\\end{equation}\n",
    "\n",
    "Though this only has one dependent variable, we want to structure our code so that we can accommodate a series of dependent variables, $y_1,y_2,...,y_n$, and their associated derivative functions.  Therefore, we create a function for each dependent variable, and then `push` it into an array declared as type `Function`."
   ]
  },
  {
   "cell_type": "code",
   "execution_count": 2,
   "metadata": {},
   "outputs": [
    {
     "data": {
      "text/plain": [
       "1-element Array{Function,1}:\n",
       " f1"
      ]
     },
     "execution_count": 2,
     "metadata": {},
     "output_type": "execute_result"
    }
   ],
   "source": [
    "function f1(t::Float64,x::Array{Float64,1})\n",
    "    return x[1]\n",
    "end\n",
    "f=Function[]\n",
    "push!(f,f1)\n"
   ]
  },
  {
   "cell_type": "markdown",
   "metadata": {},
   "source": [
    "### Euler's Method\n",
    "<img src=\"../images/ODE/graphic.png\" width=\"400px\" style=\"float: left; margin: 20px\"/> \n",
    "First published in Euler's <i>Instutionum calculi integralis</i> in 1768, this method gets a lot of milage, and if you are to understand anything, this method is it.  \n",
    "\n",
    "We march along with step size $h$, and at each new point, calculate the slope.  The slope gives us our new direction to travel for the next $h$.\n",
    "\n",
    "We can determine the error from the Taylor expansion of the function\n",
    "$$\n",
    "x_{n+1}=x_n+h f(x_n,t) + \\mathcal{O}(h^2).\n",
    "$$\n",
    "In case you haven't seen it before, the notation $\\mathcal{O}(x)$ stands for \"errors of the order x\".\n",
    "Summing over the entire interval, we accumuluate error according to \n",
    "$$N\\mathcal{O}(h^2)= \\frac{x_f-x_0}{h}\\mathcal{O}(h^2)=h, $$\n",
    "making this a <b>first order</b> method.  Generally, if a technique is $n$th order in the Taylor expansion for one step, its $(n-1)$th order over the interval. "
   ]
  },
  {
   "cell_type": "code",
   "execution_count": 3,
   "metadata": {},
   "outputs": [
    {
     "data": {
      "text/plain": [
       "Euler (generic function with 1 method)"
      ]
     },
     "execution_count": 3,
     "metadata": {},
     "output_type": "execute_result"
    }
   ],
   "source": [
    "function Euler(f::Array{Function,1},t0::Float64,x::Array{Float64,1},h::Float64)\n",
    "    d=length(f)\n",
    "    xp=copy(x)\n",
    "    for ii in 1:d\n",
    "        xp[ii]+=h*f[ii](t0,x)\n",
    "    end\n",
    "    \n",
    "    return t0+h,xp\n",
    "end"
   ]
  },
  {
   "cell_type": "code",
   "execution_count": null,
   "metadata": {},
   "outputs": [],
   "source": []
  },
  {
   "cell_type": "markdown",
   "metadata": {},
   "source": [
    "## Implicit Method or Backward Euler\n",
    "\n",
    "\n",
    "If $f(t,x)$ has a form that is invertible, we can form a specific expression for the next step.  For example, if we use our exponential,\n",
    "\\begin{equation}\n",
    "x_{n+1}=x_n+ h f(t_{n+1},x_{n+1})\n",
    "\\end{equation}\n",
    "\\begin{equation}\n",
    "x_{n+1}-h x_{n+1}=x_n\n",
    "\\end{equation}\n",
    "\\begin{equation}\n",
    "x_{n+1}=\\frac{x_n}{1-h}\n",
    "\\end{equation}\n",
    "\n",
    "This expression varies for each differential equation and only exists if the function is invertible."
   ]
  },
  {
   "cell_type": "code",
   "execution_count": 4,
   "metadata": {},
   "outputs": [
    {
     "data": {
      "text/plain": [
       "Implicit (generic function with 1 method)"
      ]
     },
     "execution_count": 4,
     "metadata": {},
     "output_type": "execute_result"
    }
   ],
   "source": [
    "\n",
    "function Implicit(f::Array{Function,1},t0::Float64,x::Array{Float64,1},h::Float64)\n",
    "    return t0+h,x[1]/(1-h)\n",
    "end"
   ]
  },
  {
   "cell_type": "markdown",
   "metadata": {},
   "source": [
    "## 2nd Order Runge-Kutta\n",
    "\n",
    "So in the Euler Method, we could just make more, tinier steps to achieve more precise results. Here, we make <i>bettter</i> steps.  Each step itself takes more work than a step in the first order methods, but we win by having to perform fewer steps.\n",
    "\n",
    "This time, we are going to work with the Taylor expansion up to second order,\n",
    "\\begin{equation}\n",
    "x_{n+1}=x_n+h f(t_n,x_n) + \\frac{h^2}{2} f^{\\prime}(t_n,x_n)+ \\mathcal{O} (h^3).\n",
    "\\end{equation}\n",
    "\n",
    "Define\n",
    "\\begin{equation}\n",
    "k_1=f(t_n,x_n),\n",
    "\\end{equation}\n",
    "so that we can write down the derivative of our $f$ function, and the second derivative (curvature), of our solution,\n",
    "\\begin{equation}\n",
    "f^{\\prime}(t_n,x_n)=\\frac{f(t_n+h/2,x_n+h k_1/2)-k_1}{h/2}+\\mathcal{O}(h^2).\n",
    "\\end{equation}\n",
    "Plugging this expression back into our Taylor expanion, we get a new expression for $x_{n+1}$\n",
    "\\begin{equation}\n",
    "x_{n+1}=x_n+hf(t_n+h/2,x_n+h k_1/2)+\\mathcal{O}(h^3)\n",
    "\\end{equation}\n",
    "\n",
    "We can also interpret this technique as using the slope at the center of the interval, instead of the start."
   ]
  },
  {
   "cell_type": "code",
   "execution_count": 5,
   "metadata": {},
   "outputs": [
    {
     "data": {
      "text/plain": [
       "RK2 (generic function with 1 method)"
      ]
     },
     "execution_count": 5,
     "metadata": {},
     "output_type": "execute_result"
    }
   ],
   "source": [
    "function RK2(f::Array{Function,1},t0::Float64,x::Array{Float64,1},h::Float64)\n",
    "    d=length(f)\n",
    "\n",
    "    xp=copy(x)\n",
    "    xk1=copy(x)\n",
    "    \n",
    "    for ii in 1:d\n",
    "        xk1[ii]+=f[ii](t0,x)*h/2\n",
    "    end\n",
    "    for ii in 1:d\n",
    "        xp[ii]+=f[ii](t0+h/2,xk1)*h \n",
    "    end\n",
    "    \n",
    "    return t0+h,xp\n",
    "end"
   ]
  },
  {
   "cell_type": "markdown",
   "metadata": {},
   "source": [
    "## 4th Order Runge-Kutta\n",
    "Wait! Where's 3rd order? There exists a 3rd order method, but I only just heard about it while fact-checking for this post.  RK4 is your dependable, multi-purpose workhorse, so we are going to skip right to it.  \n",
    "\n",
    "$$\n",
    "k_1= f(t_n,x_n)\n",
    "$$\n",
    "$$\n",
    "k_2= f(t_n+h/2,x_n+h k_1/2)\n",
    "$$\n",
    "$$\n",
    "k_3 = f(t_n+h/2, x_n+h k_2/2)\n",
    "$$\n",
    "$$\n",
    "k_4 = f(t_n+h,x_n+h k_3)\n",
    "$$\n",
    "$$\n",
    "x_{n+1}=x_n+\\frac{h}{6}\\left(k_1+2 k_2+ 2k_3 +k_4 \\right)\n",
    "$$\n",
    "I'm not going to prove here that the method is fourth order, but we will see numerically that it is.\n",
    "\n",
    "<i>Note:</i> I premultiply the $h$ in my code to reduce the number of times I have to multiply $h$."
   ]
  },
  {
   "cell_type": "code",
   "execution_count": 6,
   "metadata": {},
   "outputs": [
    {
     "data": {
      "text/plain": [
       "RK4 (generic function with 1 method)"
      ]
     },
     "execution_count": 6,
     "metadata": {},
     "output_type": "execute_result"
    }
   ],
   "source": [
    "function RK4(f::Array{Function,1},t0::Float64,x::Array{Float64,1},h::Float64)\n",
    "    d=length(f)\n",
    "    \n",
    "    hk1=zeros(Float64,length(x))\n",
    "    hk2=zeros(Float64,length(x))\n",
    "    hk3=zeros(Float64,length(x))\n",
    "    hk4=zeros(Float64,length(x))\n",
    "    \n",
    "    \n",
    "    for ii in 1:d\n",
    "        hk1[ii]=h*f[ii](t0,x)\n",
    "    end\n",
    "    for ii in 1:d\n",
    "        hk2[ii]=h*f[ii](t0+h/2,x+hk1/2)\n",
    "    end\n",
    "    for ii in 1:d\n",
    "        hk3[ii]=h*f[ii](t0+h/2,x+hk2/2) \n",
    "    end\n",
    "    for ii in 1:d\n",
    "        hk4[ii]=h*f[ii](t0+h,x+hk3)\n",
    "    end\n",
    "    \n",
    "    return t0+h,x+(hk1+2*hk2+2*hk3+hk4)/6\n",
    "end"
   ]
  },
  {
   "cell_type": "markdown",
   "metadata": {},
   "source": [
    "This next function merely iterates over a certain number of steps for a given method.  "
   ]
  },
  {
   "cell_type": "code",
   "execution_count": 7,
   "metadata": {},
   "outputs": [
    {
     "data": {
      "text/plain": [
       "Solver (generic function with 1 method)"
      ]
     },
     "execution_count": 7,
     "metadata": {},
     "output_type": "execute_result"
    }
   ],
   "source": [
    "function Solver(f::Array{Function,1},Method::Function,t0::Float64,\n",
    "        x0::Array{Float64,1},h::Float64,N::Int64)\n",
    "    d=length(f)\n",
    "    ts=zeros(Float64,N+1)\n",
    "    xs=zeros(Float64,d,N+1)\n",
    "    \n",
    "    ts[1]=t0\n",
    "    xs[:,1]=x0\n",
    "    \n",
    "    for i in 2:(N+1)\n",
    "        ts[i],xs[:,i]=Method(f,ts[i-1],xs[:,i-1],h)\n",
    "    end\n",
    "    \n",
    "    return ts,xs\n",
    "end"
   ]
  },
  {
   "cell_type": "code",
   "execution_count": 8,
   "metadata": {},
   "outputs": [
    {
     "ename": "MethodError",
     "evalue": "MethodError: no method matching setindex_shape_check(::Float64, ::Int64, ::Int64)\nClosest candidates are:\n  setindex_shape_check(!Matched::AbstractArray{#s57,1} where #s57, ::Integer, ::Integer) at indices.jl:221\n  setindex_shape_check(!Matched::AbstractArray{#s57,2} where #s57, ::Integer, ::Integer) at indices.jl:225\n  setindex_shape_check(!Matched::AbstractArray, ::Integer...) at indices.jl:179\n  ...",
     "output_type": "error",
     "traceback": [
      "MethodError: no method matching setindex_shape_check(::Float64, ::Int64, ::Int64)\nClosest candidates are:\n  setindex_shape_check(!Matched::AbstractArray{#s57,1} where #s57, ::Integer, ::Integer) at indices.jl:221\n  setindex_shape_check(!Matched::AbstractArray{#s57,2} where #s57, ::Integer, ::Integer) at indices.jl:225\n  setindex_shape_check(!Matched::AbstractArray, ::Integer...) at indices.jl:179\n  ...",
      "",
      "Stacktrace:",
      " [1] macro expansion at ./multidimensional.jl:641 [inlined]",
      " [2] _unsafe_setindex!(::IndexLinear, ::Array{Float64,2}, ::Float64, ::Base.Slice{Base.OneTo{Int64}}, ::Int64) at ./multidimensional.jl:636",
      " [3] _setindex! at ./multidimensional.jl:631 [inlined]",
      " [4] setindex! at ./abstractarray.jl:998 [inlined]",
      " [5] Solver(::Array{Function,1}, ::typeof(Implicit), ::Float64, ::Array{Float64,1}, ::Float64, ::Int64) at ./In[7]:11",
      " [6] top-level scope at In[8]:8"
     ]
    }
   ],
   "source": [
    "N=1000\n",
    "xf=10\n",
    "t0=0.\n",
    "x0=[1.]\n",
    "dt=(xf-t0)/N\n",
    "\n",
    "tEU,xEU=Solver(f,Euler,t0,x0,dt,N);\n",
    "tIm,xIm=Solver(f,Implicit,t0,x0,dt,N);\n",
    "tRK2,xRK2=Solver(f,RK2,t0,x0,dt,N);\n",
    "tRK4,xRK4=Solver(f,RK4,t0,x0,dt,N);\n",
    "\n",
    "xi=tEU\n",
    "yi=exp(xi);\n",
    "\n",
    "errEU=reshape(xEU[1,:],N+1)-yi\n",
    "errIm=reshape(xIm[1,:],N+1)-yi\n",
    "errRK2=reshape(xRK2[1,:],N+1)-yi;\n",
    "errRK4=reshape(xRK4[1,:],N+1)-yi;"
   ]
  },
  {
   "cell_type": "code",
   "execution_count": null,
   "metadata": {},
   "outputs": [],
   "source": [
    "plot(x=tEU,y=xEU[1,:],Geom.point,\n",
    "Theme(highlight_width=0pt,default_color=green,\n",
    "default_point_size=3pt))"
   ]
  },
  {
   "cell_type": "code",
   "execution_count": null,
   "metadata": {},
   "outputs": [],
   "source": [
    "lEU=layer(x=tEU,y=xEU[1,:],Geom.point,\n",
    "Theme(highlight_width=0pt,default_color=green,\n",
    "default_point_size=3pt))\n",
    "\n",
    "lIm=layer(x=tIm,y=xIm[1,:],Geom.point,\n",
    "Theme(highlight_width=0pt,default_color=yellow,\n",
    "default_point_size=3pt))\n",
    "\n",
    "lRK2=layer(x=tRK2,y=xRK2[1,:],Geom.point,\n",
    "Theme(highlight_width=0pt,default_color=cyan,\n",
    "default_point_size=2pt))\n",
    "\n",
    "lRK4=layer(x=tRK4,y=xRK4[1,:],Geom.point,\n",
    "Theme(highlight_width=0pt,default_color=violet,\n",
    "default_point_size=4pt))\n",
    "\n",
    "lp=layer(x->e^x,-.1,10,Geom.line,Theme(default_color=red))\n",
    "\n",
    "\n",
    "plot(lp,lEU,lIm,lRK2,lRK4,\n",
    "Guide.manual_color_key(\"Legend\",[\"Euler\",\"Implicit\",\"RK2\",\"RK4\",\"Exact\"],\n",
    "[green,yellow,cyan,violet,red]),\n",
    "Coord.cartesian(xmin=9.5,xmax=10.1))"
   ]
  },
  {
   "cell_type": "code",
   "execution_count": null,
   "metadata": {},
   "outputs": [],
   "source": [
    "lEU=layer(x=xi,y=errEU,Geom.point,\n",
    "Theme(highlight_width=0pt,default_color=green,\n",
    "default_point_size=1pt))\n",
    "\n",
    "lIm=layer(x=xi,y=errIm,Geom.point,\n",
    "Theme(highlight_width=0pt,default_color=yellow,\n",
    "default_point_size=1pt))\n",
    "\n",
    "lRK2=layer(x=xi,y=errRK2,Geom.point,\n",
    "Theme(highlight_width=0pt,default_color=cyan,\n",
    "default_point_size=1pt))\n",
    "\n",
    "lRK4=layer(x=xi,y=errRK4,Geom.point,\n",
    "Theme(highlight_width=0pt,default_color=violet,\n",
    "default_point_size=1pt))\n",
    "\n",
    "plot(lEU,lIm,lRK2,lRK4,Scale.y_asinh,\n",
    "Guide.manual_color_key(\"Legend\",[\"Euler\",\"Implicit\",\"RK2\",\"RK4\"],\n",
    "[green,yellow,cyan,violet]))"
   ]
  },
  {
   "cell_type": "markdown",
   "metadata": {},
   "source": [
    "## Scaling of the Error \n",
    "\n",
    "I talked above about the error scaling either as $h,h^2$, or $h^4$.  I won't just talk but here will numerically demonstrate the relationship as well.  For a variety of different step sizes, the below code calculates the final error for each method.  Then we will plot the error and see how it scales."
   ]
  },
  {
   "cell_type": "code",
   "execution_count": null,
   "metadata": {},
   "outputs": [],
   "source": [
    "t0=0.\n",
    "tf=1.\n",
    "dx=tf-t0\n",
    "x0=[1.]\n",
    "\n",
    "dt=collect(.001:.0001:.01)\n",
    "\n",
    "correctans=exp(tf)\n",
    "errfEU=zeros(dt)\n",
    "errfIm=zeros(dt)\n",
    "errfRK2=zeros(dt)\n",
    "errfRK4=zeros(dt)\n",
    "\n",
    "\n",
    "\n",
    "for ii in 1:length(dt)\n",
    "    N=round(Int,dx/dt[ii])\n",
    "    dt[ii]=dx/N\n",
    "    \n",
    "    tEU,xEU=Solver(f,Euler,t0,x0,dt[ii],N);\n",
    "    tIm,xIm=Solver(f,Implicit,t0,x0,dt[ii],N);\n",
    "    tRK2,xRK2=Solver(f,RK2,t0,x0,dt[ii],N);\n",
    "    tRK4,xRK4=Solver(f,RK4,t0,x0,dt[ii],N);\n",
    "    \n",
    "    errfEU[ii]=xEU[1,end]-correctans\n",
    "    errfIm[ii]=xIm[1,end]-correctans\n",
    "    errfRK2[ii]=xRK2[1,end]-correctans\n",
    "    errfRK4[ii]=xRK4[1,end]-correctans\n",
    "end"
   ]
  },
  {
   "cell_type": "code",
   "execution_count": null,
   "metadata": {},
   "outputs": [],
   "source": [
    "plot(x=dt,y=errfEU)"
   ]
  },
  {
   "cell_type": "code",
   "execution_count": null,
   "metadata": {
    "scrolled": true
   },
   "outputs": [],
   "source": [
    "lEU=layer(x=dt,y=errfEU,Geom.point,\n",
    "Theme(highlight_width=0pt,default_color=green,\n",
    "default_point_size=1pt))\n",
    "\n",
    "lIm=layer(x=dt,y=errfIm,Geom.point,\n",
    "Theme(highlight_width=0pt,default_color=yellow,\n",
    "default_point_size=1pt))\n",
    "\n",
    "lRK2=layer(x=dt,y=errfRK2*10^5,Geom.point,\n",
    "Theme(highlight_width=0pt,default_color=cyan,\n",
    "default_point_size=1pt))\n",
    "\n",
    "lRK4=layer(x=dt,y=errfRK4*10^10,Geom.point,\n",
    "Theme(highlight_width=0pt,default_color=violet,\n",
    "default_point_size=1pt))\n",
    "\n",
    "tempEU(x)=(errfEU[end]*x/.01)\n",
    "tempIm(x)=(errfIm[end]*x/.01)\n",
    "#le=layer([tempEU,tempIm],0,.01,Geom.line,Theme(default_color=base01))\n",
    "le=layer(tempEU,0,.01,Geom.line,Theme(default_color=base01))\n",
    "lei=layer(tempIm,0,.01,Geom.line,Theme(default_color=base01))\n",
    "\n",
    "\n",
    "temp2(x)=(errfRK2[end]*(x/.01)^2*10^5)\n",
    "l2=layer(temp2,0,.01,Geom.line,Theme(default_color=base00))\n",
    "\n",
    "temp4(x)=(errfRK4[end]*(x/.01)^4*10^10)\n",
    "l4=layer(temp4,0,.01,Geom.line,Theme(default_color=base00))\n",
    "\n",
    "xl=Guide.xlabel(\"h\")\n",
    "ylrk2=Guide.ylabel(\"Error e-5\")\n",
    "ylrk4=Guide.ylabel(\"Error e-10\")\n",
    "yl=Guide.ylabel(\"Error\")\n",
    "\n",
    "pEU=plot(lEU,lIm,le,lei,xl,yl,Guide.title(\"Euler and Implicit, linear error\"))\n",
    "p2=plot(lRK2,l2,xl,ylrk2,Guide.title(\"RK2, error h^2\"))\n",
    "p4=plot(lRK4,l4,xl,ylrk4,Guide.title(\"RK4, error h^4\"))\n",
    "vstack(hstack(p2,p4),pEU)"
   ]
  },
  {
   "cell_type": "markdown",
   "metadata": {},
   "source": [
    "## Arbitrary Order\n",
    "While I have presented 4 concrete examples, many more exist. For any choice of variables $a_i, \\beta_{i,j},a_i$ that fulfill\n",
    "$$\n",
    "x_{n+1}=x_n+h\\left(\\sum_{i=1}^s a_i k_i \\right)+ \\mathcal{O}(h^p)\n",
    "$$\n",
    "with\n",
    "$$\n",
    "k_i=f\\left(t_n+\\alpha_i h,x_n+h\\left(\\sum_{j=1}^s \\beta_{ij} k_j \\right) \\right)\n",
    "$$\n",
    "we have a Runge-Kutta method of order $p$, where $p\\geq s$.  The Butcher tableau provides a set of consistent coefficients.\n",
    "\n",
    "\n",
    "These routines are also present in the M4 folder in a module named `diffeq.jl`. For later work, you may simply import the module.\n",
    "\n",
    "Stay tuned for when we tuned these routines to the stiff van der Pol equations! "
   ]
  },
  {
   "cell_type": "code",
   "execution_count": null,
   "metadata": {
    "collapsed": true
   },
   "outputs": [],
   "source": []
  }
 ],
 "metadata": {
  "@webio": {
   "lastCommId": "8f984d6f01a1479b98c92fca40613a0b",
   "lastKernelId": "87267cbd-a918-404b-b633-d94e3402f002"
  },
  "anaconda-cloud": {},
  "kernelspec": {
   "display_name": "Julia 1.0.1",
   "language": "julia",
   "name": "julia-1.0"
  },
  "language_info": {
   "file_extension": ".jl",
   "mimetype": "application/julia",
   "name": "julia",
   "version": "1.0.1"
  }
 },
 "nbformat": 4,
 "nbformat_minor": 1
}
