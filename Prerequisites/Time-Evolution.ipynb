{
 "cells": [
  {
   "cell_type": "markdown",
   "metadata": {},
   "source": [
    "# Time Evolution: Split Operator Method\n",
    "\n",
    "### Category: Prerequisites\n",
    "\n",
    "### Prerequisites: Quantum Mechanics\n",
    "\n",
    "When cleaning my apartment, sometimes I just grab the nearest dirty thing to me and try to do something to it.  But that is not the most efficient way to get things done.  If I'm planning, I'll first dedicate my attention to one problem, like putting clothing away, then rotate my attention to something else, like dirty dishes.  I can keep focused on just one task and do it well.  Each problem I solve optimally in shorter intervals instead of tackling everything at once.  \n",
    "\n",
    "That same principle applies to solving partial differential equations.  [1] called this principle one of the big ideas of numerical computation.  In numerics, we call it <b>Strang splitting</b>.  \n",
    "\n",
    "We will be applying Strang splitting to solve the Schrondinger equation, but people use the same idea to a variety of problems, like ones with different timescales, length scales, or physical processes.  We will be using it to seperate out terms diagonal in position space from terms diagonal in momentum space.  \n",
    "\n",
    "We can describe a class of general partial differential equations by\n",
    "\\begin{equation}\n",
    "\\frac{\\partial}{\\partial t}y = L_1(y,t)+L_2(y,t)\n",
    "\\end{equation}\n",
    "\n",
    "Over a small time step, the following approximation holds\n",
    "\\begin{equation}\n",
    "y(\\delta t)= e^{L_1(y,0) \\delta t+L_2(y,0) \\delta t}y(0)\n",
    "\\end{equation}\n",
    "\n",
    "For <b>Strang splitting</b>, instead of applying both operators together, we break them up into two.  I'll discuss non-commutativity later.\n",
    "\\begin{equation}\n",
    "y(\\delta t)= e^{L_1 (y,0) \\delta t} e^{L_2(y,0) \\delta t} y(0) = U_1 U_2 y(0)\n",
    "\\end{equation}\n",
    "$U_1$ and $U_2$ are evolution operators. We can define\n",
    "\\begin{equation}\n",
    "\\tilde{y(0)}= U_2 y(0)\n",
    "\\end{equation}\n",
    "so that \n",
    "\\begin{equation}\n",
    "y (\\delta t) = U_1 \\tilde{y}(0)\n",
    "\\end{equation}\n",
    "\n",
    "### Applying to Quantum Mechanics\n",
    "Now let's take a look at the Schrodinger Equation:\n",
    "\\begin{equation}\n",
    "i \\hbar \\frac{\\partial}{\\partial t} | \\Psi \\rangle = \\mathcal{H} | \\Psi \\rangle \n",
    "=\n",
    "\\left[ \\frac{\\hat{p}^2}{2m} + V(x) \\right] | \\Psi \\rangle\n",
    "=\n",
    "\\left[ \\mathcal{H}_p + \\mathcal{H}_x \\right] | \\Psi \\rangle\n",
    "\\end{equation}\n",
    "The Hamiltonian gets seperated into position terms and momentum terms.  For ease, let's define our unitary evolution operators,\n",
    "\\begin{equation}\n",
    "U_p(\\delta t)=e^{-\\frac{i}{\\hbar}\\mathcal{H}_p \\delta t} \n",
    "\\;\\;\\;\\;\\;\n",
    "U_x (\\delta t)= e^{-\\frac{i}{\\hbar}\\mathcal{H}_x \\delta t}\n",
    "\\end{equation}\n",
    "\n",
    "I mentioned earlier that I would discuss non-commutativity.  We need to do that now.  We can't simply separate the evolution operator for the full Hamiltonian into two parts, because we would introduce terms proportional to the commutator.  \n",
    "\\begin{equation}\n",
    "e^{A+B}=e^{A}e^{B}e^{[A,B]}\n",
    "\\end{equation}\n",
    "$e^{A+B}$ expanded has terms that look like $AB$ <b>and</b> $BA$, whereas $e^{A}e^{B}$ only has terms that look like $AB$.  We lose the symmetry of the expression.  We can gain back an order of accuracy by symmetrizing our formula, calculating a time step by\n",
    "\\begin{equation}\n",
    "|\\Psi (\\delta t) \\rangle =\n",
    "U_x (\\delta t/2) U_p (\\delta t) U_x (\\delta t/2)\n",
    "\\end{equation}\n",
    "But the next step will the start with $U_x (\\delta t/2)$ !\n",
    "\n",
    "\\begin{equation}\n",
    "|\\Psi (2 \\delta t) \\rangle = \\left(\n",
    "U_x (\\frac{\\delta t}{2}) U_p (\\delta t) U_x (\\frac{\\delta t}{2})\\right)\\left( U_x (\\frac{\\delta t}{2}) U_p (\\delta t) U_x (\\frac{\\delta t}{2}) \\right)\n",
    "\\end{equation}\n",
    "\\begin{equation}\n",
    "= U_x (\\frac{\\delta t}{2}) U_p (\\delta t) U_x (\\delta t)  U_p (\\delta t) U_x (\\frac{\\delta t}{2})\n",
    "\\end{equation}\n",
    "\n",
    "All we need to do to add an order of accuracy is start the simulation with $U_x(\\delta t/2)$ and end it with $U_x(\\delta t/2)$, leaving everything else the same.  Pretty remarkable you can get that much of an improvement for that little work.  Once we apply this to a bunch of time steps, we get\n",
    "\\begin{equation}\n",
    "U_x (\\frac{\\delta t}{2}) U_p (\\delta t) \\left( \\prod_{n-1} U_x(\\delta t) U_p (\\delta t) \\right) U_x (\\frac{\\delta t}{2}).\n",
    "\\end{equation}\n",
    "We have to apply a few operators before starting the loop. Between the loop and a measurement, we have to apply an additional operator.\n",
    "\n",
    "In the spatial domain, the momentum operator involves derivatives and is rather icky.  But in the momentum domain, we only have to multiply by $k^2/2m$.  Thanks to some nicely optimized libraries, we can just transform into the momentum domain with `fft`, solve the momentum problem there, and transform back with `ifft`. "
   ]
  },
  {
   "cell_type": "markdown",
   "metadata": {},
   "source": [
    "## Rabi Oscillations\n",
    "\n",
    "To demonstrate time evolution in a simple system with interesting physics, I chose to apply the split operator to Rabi Oscillations between two harmonic oscillators.  \n",
    "\n",
    "To get an idea of what will happen, we will use a qualitative model of two states weakly coupled to each other by a parameter $\\epsilon$.  If we have the two minima sufficifiently seperated from each other, tunneling will happen slowly and will not significantly affect the shape of the eigenfunctions and their energies $E_0$.  Instead of of solving for the shape of the wavefunction, we solve a two-state Hamiltonian that looks like this,\n",
    "\n",
    "\\begin{equation}i \\hbar \\frac{\\partial}{\\partial t}\n",
    "\\begin{bmatrix}\n",
    "| \\phi_r \\rangle  \\\\\n",
    "| \\phi_l \\rangle \n",
    "\\end{bmatrix}\n",
    "= \\begin{bmatrix}\n",
    "E_0  & \\epsilon \\\\ \n",
    "ϵ & E_0 \\\\\n",
    "\\end{bmatrix}\n",
    "\\begin{bmatrix}\n",
    "| \\phi_r \\rangle \\\\\n",
    "| \\phi_l \\rangle\n",
    "\\end{bmatrix}\n",
    "\\end{equation}\n",
    "The eigenvalues and corresponding eigenvectors of the matrix are,\n",
    "\\begin{equation}\n",
    "\\lambda_1 = E_0 + \\epsilon \\;\\;\\;\\;\\;\\; \n",
    "\\lambda_2 = E_0 - \\epsilon\n",
    "\\end{equation}\n",
    "\n",
    "\\begin{equation}\n",
    "\\vec{v}_{1} = \\begin{bmatrix}\n",
    "| \\phi_r \\rangle \\\\\n",
    "| \\phi_l \\rangle \n",
    "\\end{bmatrix}\n",
    "\\;\\;\\;\\;\\;\n",
    "\\vec{v}_2 = \\begin{bmatrix}\n",
    "| \\phi_r \\rangle \\\\\n",
    "- |\\phi_l \\rangle\n",
    "\\end{bmatrix}\n",
    "\\end{equation}\n",
    "\n",
    "If a wavefunction starts purely in the right state, we want to choose a combination of our eigenvectors that sets the left state to zero at $t=0$.  The resulting wavefunction will evolve as,\n",
    "\\begin{equation}\n",
    "| \\Psi (t) \\rangle = \\frac{1}{\\sqrt{2}}e^{-\\frac{i}{\\hbar} E_0 t } \\left( \n",
    "e^{-\\frac{i}{\\hbar} \\epsilon t} \\begin{bmatrix}\n",
    "| \\phi_r \\rangle \\\\\n",
    "| \\phi_l \\rangle \n",
    "\\end{bmatrix}\n",
    "+ e^{\\frac{i}{\\hbar} \\epsilon t} \\begin{bmatrix}\n",
    "| \\phi_r \\rangle \\\\\n",
    "-| \\phi_l \\rangle\n",
    "\\end{bmatrix} \n",
    "\\right)\n",
    "\\end{equation}\n",
    "\n",
    "\\begin{equation}\n",
    "= \\sqrt{2} e^{-\\frac{i}{\\hbar} E_0 t } \\begin{bmatrix}\n",
    "\\cos \\frac{\\epsilon t}{\\hbar} | \\phi_r \\rangle \\\\\n",
    "i \\sin \\frac{\\epsilon t}{\\hbar} | \\phi_l \\rangle \n",
    "\\end{bmatrix}\n",
    "\\end{equation}\n",
    "\n",
    "Thus this simple phenomological model shows us how we can expect the wavefunction to move back and forth between the two wells in a cyclical manner, with a period proportional to the rate of tunneling."
   ]
  },
  {
   "cell_type": "markdown",
   "metadata": {},
   "source": [
    "#### Packages \n",
    "For the first time, I'm using `Plots.jl`, with `PlotlyJS` as the backend for `Plots`.  I had to coax my computer a bit to get the packages to work, but the errors were specific to my computer.  I choose to switch as I believe the `PlotlyJS` output will provide a better expierence for those viewing the GitHub-Pages static site, though it might cause more trouble for anyone using the jupyter notebooks.  If you are having trouble plotting yourself, I recommend just switching back to whatever package is easiest for you.\n",
    "\n",
    "I used `Plots` to generate a gif for me directly, but I found my old method of generating a file of .png files and then using `ffmpeg` from the command line much fast and easier."
   ]
  },
  {
   "cell_type": "code",
   "execution_count": 5,
   "metadata": {},
   "outputs": [
    {
     "name": "stderr",
     "output_type": "stream",
     "text": [
      "┌ Info: Recompiling stale cache file /home/shaula/.julia/compiled/v1.1/FFTW/PvIn2.ji for FFTW [7a1cc6ca-52ef-59f5-83cd-3a7055c09341]\n",
      "└ @ Base loading.jl:1184\n"
     ]
    },
    {
     "data": {
      "text/plain": [
       "Plots.GRBackend()"
      ]
     },
     "execution_count": 5,
     "metadata": {},
     "output_type": "execute_result"
    }
   ],
   "source": [
    "using Plots\n",
    "using FFTW\n",
    "gr()"
   ]
  },
  {
   "cell_type": "markdown",
   "metadata": {},
   "source": [
    "## Input Parameters"
   ]
  },
  {
   "cell_type": "code",
   "execution_count": 2,
   "metadata": {},
   "outputs": [],
   "source": [
    "# Set Time Parameters\n",
    "t0=0\n",
    "tf=40000\n",
    "dt=.1\n",
    "\n",
    "# Set Space Grid Parameters \n",
    "dx=.1 \n",
    "xmax=8\n",
    "# xmin will be -xmax.  Making the situation symmetric\n",
    "\n",
    "# How far seperated are the potential minima\n",
    "seperation=6;\n",
    "# minima at seperation/2 and -seperation/2\n",
    "\n",
    "# How often we measure occupation and view the state\n",
    "nmeasure=1000;"
   ]
  },
  {
   "cell_type": "markdown",
   "metadata": {},
   "source": [
    "## Automatic Evaluation Parameters\n",
    "\n",
    "Given the parameters above, we can calculate the following variables that we will use in the code.\n",
    "\n",
    "Note: `k` Gave me a bit of a headache. The algorithm depends quite a bit on the conventions `fft` decides to use ;(\n",
    "Currently, I'm using odd `N`.  You'll have to change the formula if you use even `N`."
   ]
  },
  {
   "cell_type": "code",
   "execution_count": 3,
   "metadata": {},
   "outputs": [],
   "source": [
    "t=collect(t0:dt:tf)\n",
    "x=collect(-xmax:dx:xmax)\n",
    "\n",
    "nt=length(t)\n",
    "N=length(x)\n",
    "\n",
    "k = [ collect(0:((N-1)/2)) ; collect(-(N-1)/2:-1) ] *2*π/(N*dx);\n",
    "\n",
    "occupation=zeros(Complex{Float64},floor(Int,nt/nmeasure),2);"
   ]
  },
  {
   "cell_type": "markdown",
   "metadata": {},
   "source": [
    "## The Potentials and Evolution Operators"
   ]
  },
  {
   "cell_type": "code",
   "execution_count": 4,
   "metadata": {},
   "outputs": [
    {
     "data": {
      "text/plain": [
       "\"potentials and evolvers defined\""
      ]
     },
     "execution_count": 4,
     "metadata": {},
     "output_type": "execute_result"
    }
   ],
   "source": [
    "Vx=.5*(abs.(x).-seperation/2).^2;\n",
    "Vk=k.^2/2\n",
    "\n",
    "Uxh=exp.(-im*Vx*dt/2);\n",
    "Ux=exp.(-im*Vx*dt);\n",
    "Uf=exp.(-im*Vk*dt);\n",
    "\"potentials and evolvers defined\""
   ]
  },
  {
   "cell_type": "code",
   "execution_count": 5,
   "metadata": {},
   "outputs": [
    {
     "data": {
      "text/html": [
       "<div id=\"c451b5c8-dbab-4b08-9b8a-5098f18c95a9\" class=\"plotly-graph-div\"></div>\n",
       "\n",
       "<script>\n",
       "    window.PLOTLYENV=window.PLOTLYENV || {};\n",
       "    window.PLOTLYENV.BASE_URL=\"https://plot.ly\";\n",
       "    require(['plotly'], function(Plotly) {\n",
       "        Plotly.newPlot('c451b5c8-dbab-4b08-9b8a-5098f18c95a9', [{\"yaxis\":\"y\",\"y\":[12.5,12.005000000000003,11.52,11.045000000000002,10.579999999999998,10.125,9.680000000000001,9.245,8.82,8.405,8.0,7.605000000000001,7.22,6.845000000000001,6.479999999999999,6.125,5.780000000000001,5.444999999999999,5.120000000000001,4.804999999999999,4.5,4.205000000000001,3.9199999999999995,3.6450000000000005,3.379999999999999,3.125,2.880000000000001,2.6449999999999996,2.4200000000000004,2.204999999999999,2.0,1.8050000000000006,1.6199999999999997,1.4450000000000003,1.2799999999999994,1.125,0.9800000000000005,0.8449999999999998,0.7200000000000002,0.6049999999999996,0.5,0.4049999999999999,0.31999999999999984,0.24500000000000013,0.18000000000000005,0.125,0.07999999999999996,0.04499999999999995,0.020000000000000035,0.005000000000000009,0.0,0.005000000000000009,0.020000000000000035,0.04499999999999995,0.07999999999999996,0.125,0.18000000000000005,0.24500000000000013,0.31999999999999984,0.4049999999999999,0.5,0.6050000000000001,0.72,0.8450000000000001,0.9799999999999999,1.125,1.2800000000000002,1.4449999999999998,1.62,1.805,2.0,2.205,2.4200000000000004,2.6449999999999996,2.88,3.125,3.3800000000000003,3.6450000000000005,3.9199999999999995,4.205,4.5,4.205,3.9199999999999995,3.6450000000000005,3.3800000000000003,3.125,2.88,2.6449999999999996,2.4200000000000004,2.205,2.0,1.805,1.62,1.4449999999999998,1.2800000000000002,1.125,0.9799999999999999,0.8450000000000001,0.72,0.6050000000000001,0.5,0.4049999999999999,0.31999999999999984,0.24500000000000013,0.18000000000000005,0.125,0.07999999999999996,0.04499999999999995,0.020000000000000035,0.005000000000000009,0.0,0.005000000000000009,0.020000000000000035,0.04499999999999995,0.07999999999999996,0.125,0.18000000000000005,0.24500000000000013,0.31999999999999984,0.4049999999999999,0.5,0.6049999999999996,0.7200000000000002,0.8449999999999998,0.9800000000000005,1.125,1.2799999999999994,1.4450000000000003,1.6199999999999997,1.8050000000000006,2.0,2.204999999999999,2.4200000000000004,2.6449999999999996,2.880000000000001,3.125,3.379999999999999,3.6450000000000005,3.9199999999999995,4.205000000000001,4.5,4.804999999999999,5.120000000000001,5.444999999999999,5.780000000000001,6.125,6.479999999999999,6.845000000000001,7.22,7.605000000000001,8.0,8.405,8.82,9.245,9.680000000000001,10.125,10.579999999999998,11.045000000000002,11.52,12.005000000000003,12.5],\"showlegend\":true,\"name\":\"y1\",\"type\":\"scatter\",\"xaxis\":\"x\",\"line\":{\"width\":1,\"dash\":\"solid\",\"color\":\"rgba(0, 154, 250, 1.000)\",\"shape\":\"linear\"},\"colorbar\":{\"title\":\"\"},\"x\":[-8.0,-7.9,-7.8,-7.7,-7.6,-7.5,-7.4,-7.3,-7.2,-7.1,-7.0,-6.9,-6.8,-6.7,-6.6,-6.5,-6.4,-6.3,-6.2,-6.1,-6.0,-5.9,-5.8,-5.7,-5.6,-5.5,-5.4,-5.3,-5.2,-5.1,-5.0,-4.9,-4.8,-4.7,-4.6,-4.5,-4.4,-4.3,-4.2,-4.1,-4.0,-3.9,-3.8,-3.7,-3.6,-3.5,-3.4,-3.3,-3.2,-3.1,-3.0,-2.9,-2.8,-2.7,-2.6,-2.5,-2.4,-2.3,-2.2,-2.1,-2.0,-1.9,-1.8,-1.7,-1.6,-1.5,-1.4,-1.3,-1.2,-1.1,-1.0,-0.9,-0.8,-0.7,-0.6,-0.5,-0.4,-0.3,-0.2,-0.1,0.0,0.1,0.2,0.3,0.4,0.5,0.6,0.7,0.8,0.9,1.0,1.1,1.2,1.3,1.4,1.5,1.6,1.7,1.8,1.9,2.0,2.1,2.2,2.3,2.4,2.5,2.6,2.7,2.8,2.9,3.0,3.1,3.2,3.3,3.4,3.5,3.6,3.7,3.8,3.9,4.0,4.1,4.2,4.3,4.4,4.5,4.6,4.7,4.8,4.9,5.0,5.1,5.2,5.3,5.4,5.5,5.6,5.7,5.8,5.9,6.0,6.1,6.2,6.3,6.4,6.5,6.6,6.7,6.8,6.9,7.0,7.1,7.2,7.3,7.4,7.5,7.6,7.7,7.8,7.9,8.0],\"mode\":\"lines\"}],\n",
       "               {\"yaxis\":{\"type\":\"-\",\"titlefont\":{\"size\":15,\"color\":\"rgba(0, 0, 0, 1.000)\",\"family\":\"sans-serif\"},\"title\":\"V\",\"tickfont\":{\"size\":11,\"color\":\"rgba(0, 0, 0, 1.000)\",\"family\":\"sans-serif\"},\"ticks\":\"inside\",\"tickmode\":\"array\",\"showgrid\":true,\"tickvals\":[0.0,2.5,5.0,7.5,10.0,12.5],\"domain\":[0.07581474190726165,0.9901574803149606],\"ticktext\":[\"0.0\",\"2.5\",\"5.0\",\"7.5\",\"10.0\",\"12.5\"],\"tickangle\":0,\"zeroline\":false,\"linecolor\":\"rgba(0, 0, 0, 1.000)\",\"tickcolor\":\"rgba(0, 0, 0, 1.000)\",\"anchor\":\"x\"},\"annotations\":[],\"width\":600,\"plot_bgcolor\":\"rgba(255, 255, 255, 1.000)\",\"showlegend\":true,\"legend\":{\"bgcolor\":\"rgba(255, 255, 255, 1.000)\",\"y\":1.0,\"font\":{\"size\":11,\"color\":\"rgba(0, 0, 0, 1.000)\",\"family\":\"sans-serif\"},\"bordercolor\":\"rgba(0, 0, 0, 1.000)\",\"x\":1.0},\"xaxis\":{\"type\":\"-\",\"titlefont\":{\"size\":15,\"color\":\"rgba(0, 0, 0, 1.000)\",\"family\":\"sans-serif\"},\"title\":\"x\",\"tickfont\":{\"size\":11,\"color\":\"rgba(0, 0, 0, 1.000)\",\"family\":\"sans-serif\"},\"ticks\":\"inside\",\"tickmode\":\"array\",\"showgrid\":true,\"tickvals\":[-5.0,0.0,5.0],\"domain\":[0.09128390201224845,0.9934383202099738],\"ticktext\":[\"-5\",\"0\",\"5\"],\"tickangle\":0,\"zeroline\":false,\"linecolor\":\"rgba(0, 0, 0, 1.000)\",\"tickcolor\":\"rgba(0, 0, 0, 1.000)\",\"anchor\":\"y\"},\"paper_bgcolor\":\"rgba(255, 255, 255, 1.000)\",\"margin\":{\"r\":0,\"l\":0,\"b\":20,\"t\":20},\"height\":400}, {showLink: false});\n",
       "\n",
       "    });\n",
       " </script>\n"
      ]
     },
     "execution_count": 5,
     "metadata": {},
     "output_type": "execute_result"
    }
   ],
   "source": [
    "plot(x, Vx)\n",
    "\n",
    "plot!(xlabel=\"x\", ylabel=\"V\",\n",
    "plot_title=\"Double Well Potential\")"
   ]
  },
  {
   "cell_type": "markdown",
   "metadata": {},
   "source": [
    "## The Unperturbed Wavefunctions\n",
    "\n",
    "The ground state for a harmonic oscillator is a Gaussian\n",
    "\\begin{equation}\n",
    "\\langle x | \\phi \\rangle= \\phi (x) = \\frac{1}{\\pi^{1/4}} e^{-\\frac{x^2}{2}}\n",
    "\\end{equation}\n",
    "We assume $\\omega = \\hbar = m = 1$ for sake of convenience.\n"
   ]
  },
  {
   "cell_type": "code",
   "execution_count": 6,
   "metadata": {},
   "outputs": [
    {
     "data": {
      "text/plain": [
       "ϕ (generic function with 1 method)"
      ]
     },
     "execution_count": 6,
     "metadata": {},
     "output_type": "execute_result"
    }
   ],
   "source": [
    "ϕ(x)=π^(-.25)*exp(-x.^2/2)"
   ]
  },
  {
   "cell_type": "code",
   "execution_count": 7,
   "metadata": {},
   "outputs": [],
   "source": [
    "ϕl=ϕ.(x.+seperation/2);\n",
    "ϕr=ϕ.(x.-seperation/2);\n",
    "Ψ0=convert(Array{Complex{Float64},1},ϕl);"
   ]
  },
  {
   "cell_type": "code",
   "execution_count": 9,
   "metadata": {},
   "outputs": [
    {
     "data": {
      "text/html": [
       "<div id=\"acd34b41-fa6e-454b-b796-db05b17dc5cc\" class=\"plotly-graph-div\"></div>\n",
       "\n",
       "<script>\n",
       "    window.PLOTLYENV=window.PLOTLYENV || {};\n",
       "    window.PLOTLYENV.BASE_URL=\"https://plot.ly\";\n",
       "    require(['plotly'], function(Plotly) {\n",
       "        Plotly.newPlot('acd34b41-fa6e-454b-b796-db05b17dc5cc', [{\"yaxis\":\"y\",\"y\":[2.799184392909597e-6,4.592057067364143e-6,7.458304327999384e-6,1.1993059248592645e-5,1.9093120491923234e-5,3.009406831843021e-5,4.696149856362874e-5,7.255378047380292e-5,0.00011097756752308872,0.00016806118113014184,0.0002519745490309146,0.0003740270370959159,0.0005496754903223571,0.0007997731192450789,0.0011520843816137329,0.0016430804571573455,0.002320013042709098,0.00324323992664591,0.004488743450746297,0.006150742507882365,0.008344251073246413,0.011207383559973501,0.014903153092645649,0.019620458198716238,0.025573912975171437,0.03300215319000194,0.042164254297199076,0.053333934987610694,0.06679129832888488,0.08281198584687745,0.10165378830641793,0.12354096574709093,0.14864676809808394,0.17707490010849697,0.20884091868446839,0.24385476130642741,0.28190575346849317,0.3226515045649639,0.3656120532774727,0.4101704510281332,0.45558067201133257,0.5009833202015627,0.54542909083467,0.5879093724421045,0.6273927923216394,0.6628659664424796,0.6933762682841503,0.7180741290490011,0.7362522621713509,0.7473792901830157,0.7511255444649425,0.7473792901830157,0.7362522621713509,0.7180741290490011,0.6933762682841503,0.6628659664424796,0.6273927923216394,0.5879093724421045,0.54542909083467,0.5009833202015627,0.45558067201133257,0.41017045102813304,0.36561205327747276,0.3226515045649637,0.28190575346849334,0.24385476130642741,0.20884091868446822,0.17707490010849705,0.1486467680980839,0.12354096574709102,0.10165378830641793,0.08281198584687738,0.06679129832888488,0.053333934987610694,0.04216425429719911,0.03300215319000194,0.025573912975171406,0.019620458198716238,0.014903153092645649,0.011207383559973512,0.008344251073246413,0.006150742507882354,0.004488743450746297,0.00324323992664591,0.0023200130427091024,0.0016430804571573455,0.0011520843816137307,0.0007997731192450789,0.0005496754903223571,0.00037402703709591654,0.0002519745490309146,0.00016806118113014184,0.00011097756752308872,7.255378047380292e-5,4.696149856362874e-5,3.009406831843021e-5,1.9093120491923234e-5,1.1993059248592645e-5,7.458304327999384e-6,4.592057067364143e-6,2.799184392909597e-6,1.6893233877692991e-6,1.0093717286946494e-6,5.97099260749526e-7,3.497027001891554e-7,2.0277223731643989e-7,1.1640591678410923e-7,6.616048394686216e-8,3.72288264395238e-8,2.0740397437846732e-8,1.1439626827937319e-8,6.246887661038128e-9,3.3773229379603574e-9,1.8077507003426206e-9,9.579912501424882e-10,5.026221246156328e-10,2.6108307311222923e-10,1.3426811303391428e-10,6.836347183407782e-11,3.44613582113722e-11,1.719878332615867e-11,8.498066308228578e-12,4.1571870035075785e-12,2.013427803540647e-12,9.65449623049568e-13,4.583320509256901e-13,2.154209290062921e-13,1.0024266770863598e-13,4.618217603079176e-14,2.1064600358976556e-14,9.51237824325753e-15,4.252869465426344e-15,1.88248727953195e-15,8.249717987610387e-16,3.5793421138428963e-16,1.5375327425547992e-16,6.538868311471877e-17,2.7532006549708377e-17,1.1477047856113191e-17,4.7367403176198545e-18,1.9354680865679464e-18,7.829779082969344e-19,3.13595670134735e-19,1.2435053609429842e-19,4.881826284188835e-20,1.8974661453554284e-20,7.301680166108973e-21,2.7818174731574626e-21,1.049280279883361e-21,3.9184241655952854e-22,1.4487332796885729e-22,5.303010442920294e-23,1.9218238699413847e-23,6.895436116677472e-24,2.4494408166265483e-24,8.614482972582932e-25,2.9994977362115606e-25,1.034010419983354e-25,3.529054352981505e-26,1.1924737683919689e-26,3.989297057743747e-27],\"showlegend\":true,\"name\":\"ϕl\",\"type\":\"scatter\",\"xaxis\":\"x\",\"line\":{\"width\":1,\"dash\":\"solid\",\"color\":\"rgba(0, 154, 250, 1.000)\",\"shape\":\"linear\"},\"colorbar\":{\"title\":\"\"},\"x\":[-8.0,-7.9,-7.8,-7.7,-7.6,-7.5,-7.4,-7.3,-7.2,-7.1,-7.0,-6.9,-6.8,-6.7,-6.6,-6.5,-6.4,-6.3,-6.2,-6.1,-6.0,-5.9,-5.8,-5.7,-5.6,-5.5,-5.4,-5.3,-5.2,-5.1,-5.0,-4.9,-4.8,-4.7,-4.6,-4.5,-4.4,-4.3,-4.2,-4.1,-4.0,-3.9,-3.8,-3.7,-3.6,-3.5,-3.4,-3.3,-3.2,-3.1,-3.0,-2.9,-2.8,-2.7,-2.6,-2.5,-2.4,-2.3,-2.2,-2.1,-2.0,-1.9,-1.8,-1.7,-1.6,-1.5,-1.4,-1.3,-1.2,-1.1,-1.0,-0.9,-0.8,-0.7,-0.6,-0.5,-0.4,-0.3,-0.2,-0.1,0.0,0.1,0.2,0.3,0.4,0.5,0.6,0.7,0.8,0.9,1.0,1.1,1.2,1.3,1.4,1.5,1.6,1.7,1.8,1.9,2.0,2.1,2.2,2.3,2.4,2.5,2.6,2.7,2.8,2.9,3.0,3.1,3.2,3.3,3.4,3.5,3.6,3.7,3.8,3.9,4.0,4.1,4.2,4.3,4.4,4.5,4.6,4.7,4.8,4.9,5.0,5.1,5.2,5.3,5.4,5.5,5.6,5.7,5.8,5.9,6.0,6.1,6.2,6.3,6.4,6.5,6.6,6.7,6.8,6.9,7.0,7.1,7.2,7.3,7.4,7.5,7.6,7.7,7.8,7.9,8.0],\"mode\":\"lines\"},{\"yaxis\":\"y\",\"y\":[3.989297057743747e-27,1.1924737683919689e-26,3.529054352981505e-26,1.034010419983354e-25,2.9994977362115606e-25,8.614482972582932e-25,2.4494408166265483e-24,6.895436116677472e-24,1.9218238699413847e-23,5.303010442920294e-23,1.4487332796885729e-22,3.9184241655952854e-22,1.049280279883361e-21,2.7818174731574626e-21,7.301680166108973e-21,1.8974661453554284e-20,4.881826284188835e-20,1.2435053609429842e-19,3.13595670134735e-19,7.829779082969344e-19,1.9354680865679464e-18,4.7367403176198545e-18,1.1477047856113191e-17,2.7532006549708377e-17,6.538868311471877e-17,1.5375327425547992e-16,3.5793421138428963e-16,8.249717987610387e-16,1.88248727953195e-15,4.252869465426344e-15,9.51237824325753e-15,2.1064600358976556e-14,4.618217603079176e-14,1.0024266770863598e-13,2.154209290062921e-13,4.583320509256901e-13,9.65449623049568e-13,2.013427803540647e-12,4.1571870035075785e-12,8.498066308228578e-12,1.719878332615867e-11,3.44613582113722e-11,6.836347183407782e-11,1.3426811303391428e-10,2.6108307311222923e-10,5.026221246156328e-10,9.579912501424882e-10,1.8077507003426206e-9,3.3773229379603574e-9,6.246887661038128e-9,1.1439626827937319e-8,2.0740397437846732e-8,3.72288264395238e-8,6.616048394686216e-8,1.1640591678410923e-7,2.0277223731643989e-7,3.497027001891554e-7,5.97099260749526e-7,1.0093717286946494e-6,1.6893233877692991e-6,2.799184392909597e-6,4.592057067364143e-6,7.458304327999384e-6,1.1993059248592645e-5,1.9093120491923234e-5,3.009406831843021e-5,4.696149856362874e-5,7.255378047380292e-5,0.00011097756752308872,0.00016806118113014184,0.0002519745490309146,0.00037402703709591654,0.0005496754903223571,0.0007997731192450789,0.0011520843816137307,0.0016430804571573455,0.0023200130427091024,0.00324323992664591,0.004488743450746297,0.006150742507882354,0.008344251073246413,0.011207383559973512,0.014903153092645649,0.019620458198716238,0.025573912975171406,0.03300215319000194,0.04216425429719911,0.053333934987610694,0.06679129832888488,0.08281198584687738,0.10165378830641793,0.12354096574709102,0.1486467680980839,0.17707490010849705,0.20884091868446822,0.24385476130642741,0.28190575346849334,0.3226515045649637,0.36561205327747276,0.41017045102813304,0.45558067201133257,0.5009833202015627,0.54542909083467,0.5879093724421045,0.6273927923216394,0.6628659664424796,0.6933762682841503,0.7180741290490011,0.7362522621713509,0.7473792901830157,0.7511255444649425,0.7473792901830157,0.7362522621713509,0.7180741290490011,0.6933762682841503,0.6628659664424796,0.6273927923216394,0.5879093724421045,0.54542909083467,0.5009833202015627,0.45558067201133257,0.4101704510281332,0.3656120532774727,0.3226515045649639,0.28190575346849317,0.24385476130642741,0.20884091868446839,0.17707490010849697,0.14864676809808394,0.12354096574709093,0.10165378830641793,0.08281198584687745,0.06679129832888488,0.053333934987610694,0.042164254297199076,0.03300215319000194,0.025573912975171437,0.019620458198716238,0.014903153092645649,0.011207383559973501,0.008344251073246413,0.006150742507882365,0.004488743450746297,0.00324323992664591,0.002320013042709098,0.0016430804571573455,0.0011520843816137329,0.0007997731192450789,0.0005496754903223571,0.0003740270370959159,0.0002519745490309146,0.00016806118113014184,0.00011097756752308872,7.255378047380292e-5,4.696149856362874e-5,3.009406831843021e-5,1.9093120491923234e-5,1.1993059248592645e-5,7.458304327999384e-6,4.592057067364143e-6,2.799184392909597e-6],\"showlegend\":true,\"name\":\"ϕr\",\"type\":\"scatter\",\"xaxis\":\"x\",\"line\":{\"width\":1,\"dash\":\"solid\",\"color\":\"rgba(227, 111, 71, 1.000)\",\"shape\":\"linear\"},\"colorbar\":{\"title\":\"\"},\"x\":[-8.0,-7.9,-7.8,-7.7,-7.6,-7.5,-7.4,-7.3,-7.2,-7.1,-7.0,-6.9,-6.8,-6.7,-6.6,-6.5,-6.4,-6.3,-6.2,-6.1,-6.0,-5.9,-5.8,-5.7,-5.6,-5.5,-5.4,-5.3,-5.2,-5.1,-5.0,-4.9,-4.8,-4.7,-4.6,-4.5,-4.4,-4.3,-4.2,-4.1,-4.0,-3.9,-3.8,-3.7,-3.6,-3.5,-3.4,-3.3,-3.2,-3.1,-3.0,-2.9,-2.8,-2.7,-2.6,-2.5,-2.4,-2.3,-2.2,-2.1,-2.0,-1.9,-1.8,-1.7,-1.6,-1.5,-1.4,-1.3,-1.2,-1.1,-1.0,-0.9,-0.8,-0.7,-0.6,-0.5,-0.4,-0.3,-0.2,-0.1,0.0,0.1,0.2,0.3,0.4,0.5,0.6,0.7,0.8,0.9,1.0,1.1,1.2,1.3,1.4,1.5,1.6,1.7,1.8,1.9,2.0,2.1,2.2,2.3,2.4,2.5,2.6,2.7,2.8,2.9,3.0,3.1,3.2,3.3,3.4,3.5,3.6,3.7,3.8,3.9,4.0,4.1,4.2,4.3,4.4,4.5,4.6,4.7,4.8,4.9,5.0,5.1,5.2,5.3,5.4,5.5,5.6,5.7,5.8,5.9,6.0,6.1,6.2,6.3,6.4,6.5,6.6,6.7,6.8,6.9,7.0,7.1,7.2,7.3,7.4,7.5,7.6,7.7,7.8,7.9,8.0],\"mode\":\"lines\"}],\n",
       "               {\"yaxis\":{\"type\":\"-\",\"titlefont\":{\"size\":15,\"color\":\"rgba(0, 0, 0, 1.000)\",\"family\":\"sans-serif\"},\"title\":\"ϕ\",\"tickfont\":{\"size\":11,\"color\":\"rgba(0, 0, 0, 1.000)\",\"family\":\"sans-serif\"},\"ticks\":\"inside\",\"tickmode\":\"array\",\"showgrid\":true,\"tickvals\":[0.2,0.4,0.6000000000000001],\"domain\":[0.07581474190726165,0.9901574803149606],\"ticktext\":[\"0.2\",\"0.4\",\"0.6\"],\"tickangle\":0,\"zeroline\":false,\"linecolor\":\"rgba(0, 0, 0, 1.000)\",\"tickcolor\":\"rgba(0, 0, 0, 1.000)\",\"anchor\":\"x\"},\"annotations\":[],\"width\":600,\"plot_bgcolor\":\"rgba(255, 255, 255, 1.000)\",\"showlegend\":true,\"legend\":{\"bgcolor\":\"rgba(255, 255, 255, 1.000)\",\"y\":1.0,\"font\":{\"size\":11,\"color\":\"rgba(0, 0, 0, 1.000)\",\"family\":\"sans-serif\"},\"bordercolor\":\"rgba(0, 0, 0, 1.000)\",\"x\":1.0},\"xaxis\":{\"type\":\"-\",\"titlefont\":{\"size\":15,\"color\":\"rgba(0, 0, 0, 1.000)\",\"family\":\"sans-serif\"},\"title\":\"x\",\"tickfont\":{\"size\":11,\"color\":\"rgba(0, 0, 0, 1.000)\",\"family\":\"sans-serif\"},\"ticks\":\"inside\",\"tickmode\":\"array\",\"showgrid\":true,\"tickvals\":[-5.0,0.0,5.0],\"domain\":[0.07646908719743364,0.9934383202099737],\"ticktext\":[\"-5\",\"0\",\"5\"],\"tickangle\":0,\"zeroline\":false,\"linecolor\":\"rgba(0, 0, 0, 1.000)\",\"tickcolor\":\"rgba(0, 0, 0, 1.000)\",\"anchor\":\"y\"},\"paper_bgcolor\":\"rgba(255, 255, 255, 1.000)\",\"margin\":{\"r\":0,\"l\":0,\"b\":20,\"t\":20},\"height\":400}, {showLink: false});\n",
       "\n",
       "    });\n",
       " </script>\n"
      ]
     },
     "execution_count": 9,
     "metadata": {},
     "output_type": "execute_result"
    }
   ],
   "source": [
    "plot(x,ϕl,label=\"ϕl\")\n",
    "plot!(x,ϕr,label=\"ϕr\")\n",
    "\n",
    "plot!(xlabel=\"x\", ylabel=\"ϕ\",\n",
    "plot_title=\"Left and Right Wavefunctions\")"
   ]
  },
  {
   "cell_type": "markdown",
   "metadata": {},
   "source": [
    "## FFT's \n",
    "\n",
    "This algorithm runs a large number of Fast Fourier Transforms and Inverse Fast Fourier Transforms.  To speed the process, we can tell the computer to spend some time, in the beginning, allocating the right amount of space and optimizing the routine for the particular size and type of array we are passing it.  \n",
    "\n",
    "The next cell does this, by using `plan_fft` and `plan_ifft` to generate objects that can act on our arrays as operators."
   ]
  },
  {
   "cell_type": "code",
   "execution_count": 10,
   "metadata": {},
   "outputs": [],
   "source": [
    "ft=plan_fft(Ψ0);\n",
    "Ψf=ft*Ψ0;\n",
    "ift=plan_ifft(Ψf);"
   ]
  },
  {
   "cell_type": "markdown",
   "metadata": {},
   "source": [
    "## Occupancy of each state\n",
    "\n",
    "To measure the occupancy of the total wavefunction in either the left or right well groundstate, I compute the value\n",
    "\\begin{equation}\n",
    "c_r=\\langle \\Psi | \\phi_r \\rangle  = \\int \\Psi^* (x) \\phi_r(x) dx \\;\\;\\;\\;\\;\\;\\; p_r=c_r^2\n",
    "\\end{equation}\n",
    "\\begin{equation}\n",
    "c_l = \\langle \\Psi | \\phi_l \\rangle = \\int \\Psi^* (x) \\phi_l (x) dx\\;\\;\\;\\;\\;\\;\\; p_l = c_l^2\n",
    "\\end{equation}\n",
    "The probability of being in the state is the coefficient squared.\n",
    "\n",
    "Though in theory these values will always be real, numerical errors introduce some errors, and Julia will assume that the answer is complex.  Therefore, we need to apply `abs` to make the numbers `Float64` instead of `Complex{Float64}`."
   ]
  },
  {
   "cell_type": "code",
   "execution_count": 11,
   "metadata": {},
   "outputs": [],
   "source": [
    "nmeas=1000\n",
    "c=zeros(Float64,floor(Int,nt/nmeas),2);"
   ]
  },
  {
   "cell_type": "code",
   "execution_count": 12,
   "metadata": {},
   "outputs": [],
   "source": [
    "# Uncomment the # lines to generate a gif.  Note: It takes a long time\n",
    "\n",
    "Ψ=Ψ0;\n",
    "jj=1\n",
    "\n",
    "# The operators we have to start off with\n",
    "Ψ=Ψ.*Uxh\n",
    "\n",
    "Psif=ft*Ψ\n",
    "Psif=Psif.*Uf    \n",
    "Ψ=ift*Psif\n",
    "\n",
    "#@gif for ii in 1:nt\n",
    "for ii in 1:nt\n",
    "    \n",
    "    Ψ=Ψ.*Ux\n",
    "    \n",
    "    Psif=ft*Ψ\n",
    "    Psif=Psif.*Uf    \n",
    "    Ψ=ift*Psif   \n",
    "    \n",
    "    if ii%nmeas == 0\n",
    "        \n",
    "        # Every time we measure, we have to finish with a U_x half time step\n",
    "        Ψt=Ψ.*Uxh\n",
    "        \n",
    "        c[jj,1]=abs(sum( conj(Ψt).*ϕl )) *dx\n",
    "        c[jj,2]=abs(sum( conj(Ψt).*ϕr )) *dx\n",
    "        \n",
    "                   \n",
    "        jj+=1\n",
    "    end\n",
    "    \n",
    "    #plot(x[21:141],Vx[21:141]/6, label=\"Vx scaled\")\n",
    "    #plot!(x,abs(conj(Ψt).*Ψt), label=\"Wavefunction\")\n",
    "    #plot!(xlabel=\"x\", ylabel=\"Ψ\",\n",
    "    #    plot_title=\"Wavefunction evolution\")\n",
    "    \n",
    "end    \n",
    "#end every nmeas\n",
    "\n",
    "Ψ=Ψ.*Uxh;"
   ]
  },
  {
   "cell_type": "code",
   "execution_count": 13,
   "metadata": {},
   "outputs": [
    {
     "data": {
      "text/html": [
       "<div id=\"b684b895-ceee-4075-a5a3-0e55439f9033\" class=\"plotly-graph-div\"></div>\n",
       "\n",
       "<script>\n",
       "    window.PLOTLYENV=window.PLOTLYENV || {};\n",
       "    window.PLOTLYENV.BASE_URL=\"https://plot.ly\";\n",
       "    require(['plotly'], function(Plotly) {\n",
       "        Plotly.newPlot('b684b895-ceee-4075-a5a3-0e55439f9033', [{\"yaxis\":\"y\",\"y\":[0.9995584832548887,0.9982529304706242,0.9960745078624765,0.9930340243937552,0.9891351481691214,0.9843797816458493,0.9787839782049943,0.9723494322839985,0.9650931561056822,0.9570275662041112,0.948161615700509,0.9385199199655524,0.9281066602922872,0.9169535686432433,0.90507027354586,0.8924811942115279,0.8792098225838142,0.865272707143074,0.8507037924081254,0.835520248725321,0.81975379914451,0.8034314033166315,0.7865753391302307,0.7692237053889445,0.7513983338368846,0.7331387874117216,0.7144720182339119,0.6954302250459219,0.6760504287518949,0.6563587216286946,0.6363985383161761,0.6161976544067354,0.5957963148115815,0.5752285670090054,0.5545267208948902,0.5337330888275805,0.5128778362332634,0.49200168336212086,0.47113999224094116,0.4503260654854093,0.4296024077647769,0.4089972962599945,0.38855483443250993,0.3683047394033233,0.3482845104965587,0.3285290358647345,0.3090706831582857,0.289947474536084,0.27118935887834317,0.2528306861002644,0.23490392475211958,0.2174364762643172,0.20046438038413023,0.1840114432096592,0.1681123550216502,0.15279079000697435,0.13807423991646106,0.12398954337246937,0.1105587927779475,0.0978082403820171,0.08575832985039808,0.0744304899389578,0.06384550589557746,0.0540193223375576,0.04497219177119682,0.03671718772167833,0.029270623231626755,0.0226443546052242,0.016850015833050874,0.011898512612164583,0.007797438843477982,0.0045548901056828165,0.0021758865379542143,0.000664713108631192,2.4095684345038715e-5,0.00025513358044428996,0.0013573222067556844,0.0033289170918622026,0.006166267859171707,0.009864442331289528,0.014417542688422854,0.019816621996918176,0.02605359649675099,0.03311599890763291,0.04099264171490489,0.049669628022139665,0.05913125486925216,0.06936243043851435,0.08034316745756907,0.09205636679184111,0.10448061794511185,0.11759362443089112,0.1313750603756745,0.14579669560915226,0.1608380098138986,0.17646865150391033,0.19266457511686205,0.20939692669047646,0.2266345044733127,0.2443498882414536,0.2625092947010684,0.2810833191099137,0.3000399523830419,0.319343644805343,0.3389656073061299,0.3588641137379663,0.37901160214289265,0.3993675165958873,0.41990027232014343,0.4405738142103,0.4613487833687596,0.4821936207452447,0.5030673126834465,0.523935724574982,0.544764512871642,0.5655118263732054,0.5861493086326417,0.6066317209676672,0.6269318087310867,0.647009787036178,0.6668307108698525,0.6863628985718463,0.705566387465601,0.7244144842899604,0.7428692936516932,0.7609016095286469,0.7784818616708261,0.7955722875241051,0.812151217611966,0.8281810665302469,0.8436419373123771,0.8585043880715494,0.8727394510455174,0.8863295154259262,0.8992400694804767,0.9114584088927673,0.9229570029544149,0.9337190956125817,0.9437274821070291,0.9529582731765782,0.961403178515921,0.9690409128385882,0.9758621271620663,0.9818550682669523,0.9870039648168925,0.9913094326617418,0.9947514475185748,0.997336999777052,0.999052969174603,0.9998997712085211,0.9998761451456782,0.9989764791452714,0.9972108135757051,0.9945765196166233,0.9910804908721461,0.9867317175816123,0.9815287635883405,0.9754915979420615,0.9686188236975439,0.9609345507614492,0.9524449174221462,0.9431666707110268,0.9331175757411049,0.9223098229339312,0.9107688798433724,0.8985099520323181,0.8855561618786236,0.8719335302962953,0.8576568945352405,0.8427624369845502,0.8272659278086087,0.8112023795974098,0.7945955253884377,0.777472570519728,0.7598690083787618,0.7418089857833372,0.723330485414624,0.7044623728891348,0.6852368132761641,0.665690196702519,0.6458502574620298,0.6257599215060458,0.6054482709161345,0.5849542786332915,0.5643131340494068,0.5435567285429338,0.5227276828477969,0.5018549612318205,0.480982125618216,0.4601420371269818,0.4393703559810801,0.41870625840943987,0.3981812540034275,0.3778361231999162,0.3577030185313145,0.33781730172825064,0.3182162654095858,0.29892907867261587,0.2799957785430097,0.2614433824917521,0.24330926213086715,0.22562154297402084,0.20841120683055267,0.19171047064049088,0.17554575942153425,0.15994836785405664,0.1449434752195443,0.13055682251894057,0.11681561208311332,0.10373982681299214,0.09135726803712312,0.07968565801620034,0.06874788892763262,0.058561633471530025,0.04914438894838652,0.040513897946794594,0.032683690765205144,0.025668706506181128,0.019480602786270042,0.014129919454833585,0.009626761644238657,0.005977901897649006,0.0031908520817349553,0.0012695935102925136,0.0002178742576225774,3.7436222225056125e-5,0.0007286737451211222,0.0022901729597025653,0.004719512142295256,0.008012085631089044,0.012162344173581117,0.0171635330521649,0.023005953073343507,0.029680604302492312,0.03717429917675109,0.045475244153391756,0.054568716634739764,0.0644382263184438,0.0750683426613704,0.08643783052316865,0.09852944768488464,0.11131993104878372,0.12478824519129114,0.13891168686080924,0.15366307243574134,0.16901969974595413,0.18495225762607662,0.20143426767105044,0.2184379871786685,0.23593023693886428,0.25388564604965236,0.2722668425322036,0.29104732915470555,0.3101914068564165,0.3296666979576734,0.3494400624856697,0.36947339634533205,0.389735860815728,0.41018952247860313,0.43079961255622584,0.45153330998306757,0.4723477530443475,0.4932147625041749,0.5140882646667421,0.5349405121426286,0.5557313696002085,0.5764240549101901,0.5969862822194784,0.6173759873487616,0.6375634017628687,0.6575101757525187,0.6771808736361576,0.6965466939051658,0.7155642894829349,0.7342112070630513,0.7524454231795841,0.7702428413099116,0.7875692018631314,0.8043911076880792,0.8206862451869079,0.8364171960541593,0.8515653795735969,0.8661003534847366,0.8799960952230801,0.8932334247923971,0.9057783282072591,0.9176206851145063,0.9287321452407736,0.9390973927480374,0.9486998311022398,0.9575155209356505,0.9655387661392318,0.9727445918299604,0.9791298163317799,0.9846792472625019,0.9893826308965883,0.99323578857853,0.9962244026400929,0.9983521253224746,0.9996093521364839,0.9999943942039876,0.9995115398151375,0.9981513323729583,0.9959291176456594,0.9928370220921643,0.988890107161291,0.9840904980834287,0.9784440926802311,0.9719660082266888,0.9646618179125648,0.9565502569854659,0.9476434872395992,0.9379541690630913,0.9275058901408889,0.9163052053285292,0.9043844830812693,0.8917544265013932,0.8784448045249413,0.8644756764024275,0.8498681274690327,0.8346543966362115,0.8188536070931742,0.8024986724732854,0.7856176240910473,0.7682349186930977,0.7503896757641306,0.7321019061668247,0.7134149226304999,0.694353517332396,0.6749531867467155,0.6552492615695428,0.6352708620641757,0.6150607221835279,0.59464723762623,0.5740707694218098,0.553366150333835,0.5325647687037552,0.5117101103767248,0.49083085258632697,0.4699714472081438,0.4491636836193188,0.42844321664393925,0.4078504349618901,0.3874138650530466,0.3671771883533062,0.34716979119474933,0.32743001507661457,0.3079918407355585,0.2888860771209168,0.2701508864070564,0.2518144791487792,0.2339119297244122,0.216473235655085,0.19952723860324298,0.18310752736163285,0.16723730028000883,0.1519502107613372,0.13726828990658704,0.12321920375177439,0.10982698481590998,0.09711372741876056,0.08510440932681797,0.07381767331391513,0.06327425243203688,0.05349263563064784,0.0444881841219381,0.03627902418798136,0.028877063373031572,0.022297574287206728,0.016550410351919856,0.011646114914944354,0.007593305390946728,0.004398641353137812,0.002068249220140407,0.0006057834007479144,1.3975905300077657e-5,0.0002937905716526462,0.0014448971125261406,0.003464902488560194,0.006350851307181913,0.010097051539617168,0.014697486725976592,0.02014432399594486,0.02642713053924668,0.03353623206078102,0.041457714127724504,0.05017887566831436,0.0596844864783892,0.06995718402561833,0.08098107592740048,0.09273372346268871,0.1051973770411982,0.1183485741162109,0.1321649196684941,0.14662411912766876,0.1616972922697528,0.17736269850108058,0.1935882990162399,0.2103488316327692,0.22761503498931526],\"showlegend\":true,\"name\":\"Left Prob\",\"type\":\"scatter\",\"xaxis\":\"x\",\"line\":{\"width\":1,\"dash\":\"solid\",\"color\":\"rgba(0, 154, 250, 1.000)\",\"shape\":\"linear\"},\"colorbar\":{\"title\":\"\"},\"x\":[1,2,3,4,5,6,7,8,9,10,11,12,13,14,15,16,17,18,19,20,21,22,23,24,25,26,27,28,29,30,31,32,33,34,35,36,37,38,39,40,41,42,43,44,45,46,47,48,49,50,51,52,53,54,55,56,57,58,59,60,61,62,63,64,65,66,67,68,69,70,71,72,73,74,75,76,77,78,79,80,81,82,83,84,85,86,87,88,89,90,91,92,93,94,95,96,97,98,99,100,101,102,103,104,105,106,107,108,109,110,111,112,113,114,115,116,117,118,119,120,121,122,123,124,125,126,127,128,129,130,131,132,133,134,135,136,137,138,139,140,141,142,143,144,145,146,147,148,149,150,151,152,153,154,155,156,157,158,159,160,161,162,163,164,165,166,167,168,169,170,171,172,173,174,175,176,177,178,179,180,181,182,183,184,185,186,187,188,189,190,191,192,193,194,195,196,197,198,199,200,201,202,203,204,205,206,207,208,209,210,211,212,213,214,215,216,217,218,219,220,221,222,223,224,225,226,227,228,229,230,231,232,233,234,235,236,237,238,239,240,241,242,243,244,245,246,247,248,249,250,251,252,253,254,255,256,257,258,259,260,261,262,263,264,265,266,267,268,269,270,271,272,273,274,275,276,277,278,279,280,281,282,283,284,285,286,287,288,289,290,291,292,293,294,295,296,297,298,299,300,301,302,303,304,305,306,307,308,309,310,311,312,313,314,315,316,317,318,319,320,321,322,323,324,325,326,327,328,329,330,331,332,333,334,335,336,337,338,339,340,341,342,343,344,345,346,347,348,349,350,351,352,353,354,355,356,357,358,359,360,361,362,363,364,365,366,367,368,369,370,371,372,373,374,375,376,377,378,379,380,381,382,383,384,385,386,387,388,389,390,391,392,393,394,395,396,397,398,399,400],\"mode\":\"lines\"},{\"yaxis\":\"y\",\"y\":[0.0004367050476474458,0.0017443900240845227,0.003920538244748344,0.00696182833053333,0.010862144476788285,0.01561559637508962,0.0212134278557526,0.0276457817021784,0.034902307925074275,0.042968717179298406,0.051832455282401026,0.061477011529088056,0.07188599639293478,0.08304263328186298,0.09492458082686671,0.1075144565324455,0.12078655123635457,0.1347209738684419,0.14929174160662378,0.16447376911547973,0.1802421070791806,0.19656609029438135,0.21342016535463673,0.23077354618150214,0.24859550844134704,0.2668580742632547,0.2855234600151998,0.30456646631659,0.3239471507087911,0.3436366278714555,0.36359891762458274,0.3837976123825393,0.4042005200022499,0.4247678250623955,0.44546772999117357,0.4662637014426948,0.4871168956857303,0.5079957183895649,0.5288559657533243,0.5496694079589179,0.5703931362212367,0.5909959093840299,0.6114417409434442,0.6316904003013785,0.6517123937256541,0.6714665849082295,0.6909234523622961,0.7100484186429635,0.728804412813507,0.7471659202255673,0.7650919754578449,0.7825588867337727,0.7995321882922874,0.8159827402960982,0.8318852093180903,0.8472039053715407,0.8619219525135415,0.8760058639122593,0.8894368425178939,0.9021893034450943,0.9142377208173734,0.9255672122679633,0.9361499368066061,0.9459754718459291,0.9550245596674878,0.9632778762247225,0.9707283055462612,0.9773506796552963,0.9831468755364803,0.988096420938987,0.9921972682047808,0.9954415612531747,0.9978191077411146,0.9993318779692163,0.9999705161548507,0.9997396920691325,0.9986390212662439,0.9966646728379578,0.9938304920104822,0.9901283360367857,0.9855787982873151,0.9801783559677931,0.9739423773216263,0.9668814262023356,0.9590018157943533,0.9503263002040931,0.940863439191709,0.9306336052202845,0.9196550371256862,0.9079394407741843,0.8955180064682209,0.882400843259366,0.8686219526849126,0.854198993902373,0.8391586327711723,0.823528818870703,0.8073302613532016,0.7906000786604228,0.7733608241374658,0.7556458109228865,0.7374869543752296,0.7189101792140031,0.6999564271121221,0.6806497905601847,0.661031009312328,0.641131549690504,0.6209833766292079,0.6006276701379683,0.5800926836088589,0.559422253186892,0.5386463612781405,0.5178031106170045,0.4969297286527875,0.47605877362387855,0.4552322906447081,0.43448243397437586,0.4138481298350472,0.39336479967281496,0.37306394071143295,0.3529879421410938,0.3331643566627907,0.31363499988513677,0.2944291834695261,0.27558175494095133,0.25712678910011993,0.23909282228425915,0.22151561642172587,0.20442327067570018,0.18784586295387481,0.17181400502156322,0.15635184349047437,0.14149174235475995,0.1272542140105301,0.11366830185048916,0.10075507363992878,0.08853741873446734,0.07703794532718546,0.06627474987813298,0.056269032747595475,0.04703644898798683,0.038593061072929945,0.03095479409422343,0.02413303536161558,0.01814207245657008,0.012990439336815048,0.00868828183348543,0.005242581822737994,0.0026591365177202624,0.0009429577884186335,9.669295532973883e-5,0.0001219967795216839,0.0010187407006731221,0.002785459708401513,0.00541876057407304,0.008914717591082057,0.013266263414955435,0.01846678262960743,0.024506620872065052,0.03137520269649942,0.03906162680358475,0.04755027362907866,0.056828777174583164,0.06687900471893544,0.07768474611175309,0.08922736746737299,0.10148508874122061,0.11443877717434771,0.12806309056805384,0.14233620461173352,0.1572335857095212,0.1727275387129629,0.18879437209916908,0.20540070074108188,0.22252305254956917,0.24012718091850768,0.2581849960635997,0.2766654892751358,0.29553359061894896,0.3147601571567332,0.33430784081126597,0.35414463981187433,0.37423768077931774,0.39454644988401105,0.4150430738174653,0.4356834143265739,0.45643927683195146,0.47726968016023674,0.49813979713274176,0.5190150442468237,0.539853663078509,0.5606248248313341,0.5812891670874635,0.6018121452902295,0.622160808292802,0.6422915150388283,0.6621793785294007,0.6817788013975362,0.7010644368172276,0.7199996305177814,0.7385498256896105,0.7566883241268755,0.7743739675386785,0.791584629145309,0.808285818812471,0.8244484113911574,0.8400489659352258,0.8550516642329137,0.8694404310981867,0.8831809645528961,0.8962555588258662,0.9086408613211221,0.9203095859029529,0.9312501622355219,0.9414329265900832,0.9508515025677096,0.9594825705844885,0.9673117271058054,0.9743293701537119,0.9805145424437299,0.985865752710651,0.9903677805217942,0.9940157882060685,0.9968064832902306,0.9987248651964117,0.9997794870771302,0.9999566127149621,0.9992667521280698,0.9977048339447967,0.9952751374666066,0.9919846498464682,0.9878322024822112,0.9828324511919586,0.9769899470955958,0.9703147999297567,0.9628233959580437,0.95451848741519,0.9454283139522306,0.935556191809004,0.9249284230324976,0.9135593779079884,0.901466975163853,0.8886771425173007,0.8752061173256475,0.8610840012767934,0.8463333669394207,0.8309763574725333,0.8150459918336179,0.7985603281105147,0.781559331136082,0.7640638616507084,0.7461104847726494,0.7277292932805569,0.7089475121723707,0.6898049606569839,0.6703278408903209,0.6505561709203793,0.6305224659208023,0.6102585004467621,0.5898064079508734,0.5691934106595521,0.5484630628776339,0.5276470803624074,0.5067823291912757,0.48590767435892535,0.465053607242304,0.44426455682197624,0.42357028137477093,0.40301105662887327,0.38262069652698494,0.36243295225507116,0.3424872623420289,0.32281348293501283,0.30345097850831293,0.2844312725565435,0.265785905201916,0.24755100026473856,0.2297526052037584,0.21242864959363314,0.19560391051330958,0.17931106799405747,0.16357750579226082,0.14842930570679908,0.13389514448400563,0.1199981000392321,0.1067643747161823,0.09421628021233941,0.08237447260669087,0.07126229493601507,0.060895926376031494,0.05129679009412523,0.042478736459843805,0.034458704533441936,0.027250301602259032,0.020865488843253236,0.015316656908403116,0.010612512464433932,0.00676169653687674,0.0037707696972815188,0.0016446574850734394,0.0003875937486903373,1.4347157935821306e-6,0.0004869632553397893,0.0018433149466183885,0.004068118546137438,0.007157394032810621,0.011106256789530403,0.0159069544391256,0.021551930078827407,0.02803087657699407,0.03533237432384375,0.043444693634649006,0.052351834579708996,0.06204047939590272,0.072491844038504,0.08368860052137017,0.09561209298277852,0.10823923122839949,0.12155079413490763,0.1355202399932487,0.150126164979113,0.16534215840946762,0.18114112719163714,0.19749745799365342,0.21437926032239737,0.23175994115111098,0.24960748558598264,0.26789130220845114,0.2865822929802612,0.30564224451943367,0.32504428088963044,0.34474793009942956,0.3647240822042725,0.38493579937134753,0.4053471069754623,0.42592587742360627,0.4466312497344838,0.46743076434006214,0.4882874869773891,0.5091629677601853,0.5300258199349817,0.550831224112379,0.5715526404035742,0.5921456138714012,0.6125806057722386,0.6328195158179472,0.6528250546272155,0.6725665561209091,0.6920032346351433,0.7111075669488018,0.7298449663125808,0.7481793859405342,0.7660857509730613,0.7835219318086772,0.8004686799078193,0.8168878407761193,0.8327561505209707,0.8480466948393738,0.862727079642738,0.8767784250275193,0.8901691007576142,0.9028819444518432,0.9148927498469912,0.9261774391091462,0.9367233876796667,0.9465029390969975,0.9555083417215382,0.9637177337506663,0.9711184474954213,0.9777008512521278,0.9834442604638687,0.9883500481002722,0.9924010631143728,0.9955963479094888,0.9979284312378643,0.9993893863859742,0.9999826658631433,0.9997002923707738,0.9985490109672037,0.9965300744653792,0.9936434923857637,0.9899002739044834,0.9852965698184035,0.9798523441149858,0.9735674770611631,0.9664593370517749,0.9585387423210736,0.9498162419309581,0.940312584137964,0.9300382665152201,0.9190155897117492,0.9072643160329935,0.8947982648624412,0.8816492371207167,0.8678289760122364,0.8533730525528077,0.8382982579704855,0.8226345447992068,0.8064091891404436,0.7896459850839082,0.7723808811602958],\"showlegend\":true,\"name\":\"Right Prob\",\"type\":\"scatter\",\"xaxis\":\"x\",\"line\":{\"width\":1,\"dash\":\"solid\",\"color\":\"rgba(227, 111, 71, 1.000)\",\"shape\":\"linear\"},\"colorbar\":{\"title\":\"\"},\"x\":[1,2,3,4,5,6,7,8,9,10,11,12,13,14,15,16,17,18,19,20,21,22,23,24,25,26,27,28,29,30,31,32,33,34,35,36,37,38,39,40,41,42,43,44,45,46,47,48,49,50,51,52,53,54,55,56,57,58,59,60,61,62,63,64,65,66,67,68,69,70,71,72,73,74,75,76,77,78,79,80,81,82,83,84,85,86,87,88,89,90,91,92,93,94,95,96,97,98,99,100,101,102,103,104,105,106,107,108,109,110,111,112,113,114,115,116,117,118,119,120,121,122,123,124,125,126,127,128,129,130,131,132,133,134,135,136,137,138,139,140,141,142,143,144,145,146,147,148,149,150,151,152,153,154,155,156,157,158,159,160,161,162,163,164,165,166,167,168,169,170,171,172,173,174,175,176,177,178,179,180,181,182,183,184,185,186,187,188,189,190,191,192,193,194,195,196,197,198,199,200,201,202,203,204,205,206,207,208,209,210,211,212,213,214,215,216,217,218,219,220,221,222,223,224,225,226,227,228,229,230,231,232,233,234,235,236,237,238,239,240,241,242,243,244,245,246,247,248,249,250,251,252,253,254,255,256,257,258,259,260,261,262,263,264,265,266,267,268,269,270,271,272,273,274,275,276,277,278,279,280,281,282,283,284,285,286,287,288,289,290,291,292,293,294,295,296,297,298,299,300,301,302,303,304,305,306,307,308,309,310,311,312,313,314,315,316,317,318,319,320,321,322,323,324,325,326,327,328,329,330,331,332,333,334,335,336,337,338,339,340,341,342,343,344,345,346,347,348,349,350,351,352,353,354,355,356,357,358,359,360,361,362,363,364,365,366,367,368,369,370,371,372,373,374,375,376,377,378,379,380,381,382,383,384,385,386,387,388,389,390,391,392,393,394,395,396,397,398,399,400],\"mode\":\"lines\"}],\n",
       "               {\"yaxis\":{\"type\":\"-\",\"titlefont\":{\"size\":15,\"color\":\"rgba(0, 0, 0, 1.000)\",\"family\":\"sans-serif\"},\"title\":\"Probability\",\"tickfont\":{\"size\":11,\"color\":\"rgba(0, 0, 0, 1.000)\",\"family\":\"sans-serif\"},\"ticks\":\"inside\",\"tickmode\":\"array\",\"showgrid\":true,\"tickvals\":[0.25,0.5,0.75],\"domain\":[0.07581474190726165,0.9901574803149606],\"ticktext\":[\"0.25\",\"0.50\",\"0.75\"],\"tickangle\":0,\"zeroline\":false,\"linecolor\":\"rgba(0, 0, 0, 1.000)\",\"tickcolor\":\"rgba(0, 0, 0, 1.000)\",\"anchor\":\"x\"},\"annotations\":[],\"width\":600,\"plot_bgcolor\":\"rgba(255, 255, 255, 1.000)\",\"showlegend\":true,\"legend\":{\"bgcolor\":\"rgba(255, 255, 255, 1.000)\",\"y\":1.0,\"font\":{\"size\":11,\"color\":\"rgba(0, 0, 0, 1.000)\",\"family\":\"sans-serif\"},\"bordercolor\":\"rgba(0, 0, 0, 1.000)\",\"x\":1.0},\"xaxis\":{\"type\":\"-\",\"titlefont\":{\"size\":15,\"color\":\"rgba(0, 0, 0, 1.000)\",\"family\":\"sans-serif\"},\"title\":\"x\",\"tickfont\":{\"size\":11,\"color\":\"rgba(0, 0, 0, 1.000)\",\"family\":\"sans-serif\"},\"ticks\":\"inside\",\"tickmode\":\"array\",\"showgrid\":true,\"tickvals\":[100.0,200.0,300.0,400.0],\"domain\":[0.09128390201224845,0.9934383202099738],\"ticktext\":[\"100\",\"200\",\"300\",\"400\"],\"tickangle\":0,\"zeroline\":false,\"linecolor\":\"rgba(0, 0, 0, 1.000)\",\"tickcolor\":\"rgba(0, 0, 0, 1.000)\",\"anchor\":\"y\"},\"paper_bgcolor\":\"rgba(255, 255, 255, 1.000)\",\"margin\":{\"r\":0,\"l\":0,\"b\":20,\"t\":20},\"height\":400}, {showLink: false});\n",
       "\n",
       "    });\n",
       " </script>\n"
      ]
     },
     "execution_count": 13,
     "metadata": {},
     "output_type": "execute_result"
    }
   ],
   "source": [
    "plot(c[:,1].^2,label=\"Left Prob\")\n",
    "plot!(c[:,2].^2, label=\"Right Prob\")\n",
    "plot!(xlabel=\"x\",ylabel=\"Probability\",\n",
    "    plot_title=\"Rabi Oscillations for a Double Harmonic Oscillator\")"
   ]
  },
  {
   "cell_type": "markdown",
   "metadata": {},
   "source": [
    "PyPlot generated png's strung together:\n",
    "![gif](../images/TimeEvolution/doublewell.gif)\n",
    "Plots generated gif:\n",
    "![gif2](../images/TimeEvolution/evolution_plots.gif)\n",
    "\n",
    "The faster one can perform Fourier Transforms, the faster one can perform this algorithm.  Therefore, scientists, such as [2], will use multiple cores or GPU's.  \n",
    "\n",
    "In addition to real time evolution, algorithms like this can determine the ground state of an arbitrary system by imaginary time evolution.  Soon, I will take the work covered here and look at this aspect of the algorithm.  \n",
    "\n",
    "\n",
    "[1] Glowinski, Roland, Stanley J. Osher, and Wotao Yin, eds. Splitting Methods in Communication, Imaging, Science, and Engineering. Springer, 2017.\n",
    "\n",
    "[2] Heiko Bauke and Christoph H. Keitel. Accelerating the Fourier split operator method via graphics processing unit. Computer Physics Communications, 182(12):2454–2463 (2011)"
   ]
  },
  {
   "cell_type": "code",
   "execution_count": null,
   "metadata": {
    "collapsed": true
   },
   "outputs": [],
   "source": []
  }
 ],
 "metadata": {
  "@webio": {
   "lastCommId": null,
   "lastKernelId": null
  },
  "anaconda-cloud": {},
  "kernelspec": {
   "display_name": "Julia 1.1.1",
   "language": "julia",
   "name": "julia-1.1"
  },
  "language_info": {
   "file_extension": ".jl",
   "mimetype": "application/julia",
   "name": "julia",
   "version": "1.1.1"
  }
 },
 "nbformat": 4,
 "nbformat_minor": 2
}
