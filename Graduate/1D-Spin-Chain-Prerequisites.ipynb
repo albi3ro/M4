{
 "cells": [
  {
   "cell_type": "markdown",
   "metadata": {},
   "source": [
    "# Exact Diagonalization Theory Prerequisites\n",
    "\n",
    "### Christina Lee\n",
    "\n",
    "### Category: Grad\n",
    "\n",
    "### 1D Spin Chain Series\n",
    "* [Jacobi Transformation](../Numerics_Prog/Jacobi-Transformation.ipynb)\n",
    "* [1D Spin Chain Prerequisites](../Graduate/1D-Spin-Chain-Prerequisites.ipynb)\n",
    "* [1D Spin Chain Pt. 2](../Graduate/1D-Spin-Chain-2.ipynb)\n",
    "\n",
    "Today's just background :(  I found my post getting a bit bloated, so I decided to pull most of the talking into an introduction post for the series.   Keep reading to learn how to compute, diagonalize, and analyze the matrix corresponding to a many-body, strongly interacting quantum mechanical system.  \n",
    "\n",
    "If you are not a physics graduate student, still give this series a read and try not to get too intimidated. If you are a physics graduate student, still give this series a read and try not to get too intimidated.  I've been working on this series for quite a while, so I hope it's worth my effort.\n",
    "\n",
    "For further information, take a look at this set of lecture notes on the arXiv, [Computational Studies of Quantum Spin Systems](https://arxiv.org/abs/1101.3281) by Anders W. Sandvik."
   ]
  },
  {
   "cell_type": "markdown",
   "metadata": {},
   "source": [
    "\n",
    "_______________________\n",
    "## So what is a 1D Heisenberg Spin $\\frac{1}{2}$ Chain? \n",
    "Let's break down each part of that phrase.  \n",
    "\n",
    "#### Spin $\\frac{1}{2} $\n",
    "At each site, we can have a particle pointing up $| \\uparrow \\rangle$, down $|\\downarrow \\rangle$, or some super-position of the two.  \n",
    "\n",
    "### Heisenberg\n",
    "Our spin has three degrees of freedom and full $SU(2)$ symmetry.  $SU(2)$ is the mathematical group that describes a spin's degrees of freedom. Once we have solved the physics of the Heisenburg case, we also have solved the <i>XY model</i> ($J_z=0$) and the <i>Ising model</i> ($J_x=J_y=0$). As we change the model, we also change the symmetry group first to $SO(2)$ for the XY model and then $\\mathbb{Z}_2$ for the Ising model.\n",
    "\n",
    "### 1D Chain\n",
    "Spin only interacts with two neighbors.\n",
    "\n",
    "![Spinchain](../images/spinchain.png)\n",
    "\n",
    "## The Hamiltonians\n",
    "\n",
    "Our Hamiltonian has the general form,\n",
    "$$\n",
    "{\\cal H} = \\sum_i J_x S_i^x S_{i+1}^x + J_y S_i^y S_{i+1}^y + J_z S_i^z S_{i+1}^z\n",
    "$$\n",
    "or we can restrict it to the case of $J_x=J_y$ to get the more convenient form,\n",
    "$$\n",
    "{\\cal H} = \\sum_i J_{XY} \\left(\u0010S^+_i S^-_{i+1}+S^-_i S^+_{i+1} \\right) +J_z S_i^z S_{i+1}^z.\n",
    "$$\n",
    "Here $S^{x,y,z}$ are our Pauli operators\n",
    "$$\n",
    "S^x=\\begin{bmatrix}\n",
    "0 & 1 \\\\\n",
    "1 & 0 \\\\\n",
    "\\end{bmatrix}\n",
    "\\;\\;\\;\\;\\;\\;\\;\n",
    "S^y=\\begin{bmatrix}\n",
    "0    &    -i    \\\\\n",
    "i    &    0    \\\\\n",
    "\\end{bmatrix}\n",
    "\\;\\;\\;\\;\\;\\;\\;\n",
    "S^z=\\begin{bmatrix}\n",
    "1    &    0    \\\\\n",
    "0    &    -1    \\\\\n",
    "\\end{bmatrix},\n",
    "$$\n",
    "and $S^{\\pm}$ are the ladder operators\n",
    "$$\n",
    "S^+=\\frac{S^x+i S^y}{2} = \\begin{bmatrix}\n",
    "0 & 1 \\\\\n",
    "0 & 0\\\\\n",
    "\\end{bmatrix}\n",
    "\\;\\;\\;\\;\\;\\;\\;\n",
    "S^- =\\frac{S^x-i S^y}{2}= \\begin{bmatrix}\n",
    "0 & 0 \\\\\n",
    "1 & 0\\\\\n",
    "\\end{bmatrix}.\n",
    "$$\n",
    "\n",
    "\n",
    "Assuming we write our basis states in the $S^z_i$ basis, we can divide the terms from the restricted Hamiltonian into on-diagonal and off-diagonal terms.  The $S^z_i S^z_{i+1}$ terms compute the magnetization squared, $\\vec{S} \\cdot \\vec{S} $, for a given state and a conserved quantity.  These also lie on the diagonal of the matrix corresponding to the Hamiltonian.\n",
    "$$\n",
    "| \\Psi_{i} \\rangle = H_{ii} |\\Psi_i \\rangle\n",
    "= J_{z} \\sum_m S_m^z S^z_{m+1}  |\\Psi_i \\rangle\n",
    "$$\n",
    "The ladder terms, when applied as an operator to the state, create a new state.  Thus they act as off-diagonal terms.\n",
    "$$\n",
    "| \\Psi_{j} \\rangle = H_{ij} |\\Psi_i \\rangle\n",
    "= J_{XY} \\sum_m \\left( S^+_m S^-_{m+1} + S^-_m S^+_{m+1}\\right) |\\Psi_i \\rangle\n",
    "$$\n"
   ]
  },
  {
   "cell_type": "markdown",
   "metadata": {},
   "source": [
    "## Analytical Solutions\n",
    "\n",
    "    \"The model is solvable, not the solution.\"\n",
    "             --- someone\n",
    "\n",
    "\n",
    "The Ising, XY, and Heisenberg cases all fall into the special class of problems which have exact solutions in the infinite size limit.  Very few exact solutions of quantum mechanics problems exist, so we try and get as much mileage as we can out of the couple of ones we have.  \n",
    "\n",
    "Interestingly enough, once one solution to a problem comes along, someone figures out a different way to approach the same problem.\n",
    "\n",
    "The 1D Quantum Ising Model is equivalent to the [2D Ising model of classical statistical mechanics](http://albi3ro.github.io/M4/prerequisites/Monte-Carlo-Ferromagnet.html), exactly solved in 1944 by Lars Onsager.  The solution is also equivalent to a description of free Majorana fermions. [1] \n",
    "\n",
    "The Jordan-Wigner Transformation solves the 1D XY model by mapping spins to fermions.  This transformation only works in special 1D circumstances and the Kitaev Honeycomb model.  Since spins possess different anti-commutation relationships than fermions, we attach a string of operators stretching from infinity to each spin.  This series of operators changes the relationship between a spin and its neighbors to fermionic. After the transformation, we get a Hamiltonian that is quadratic in the fermionic momentum operators $d_k$, $d^{\\dagger}_k$, and we can see the $\\cos (ka)$ dispersion relationship for the excitations,\n",
    "$$\n",
    "{\\cal \\tilde{H}}_{XY}=-J \\sum_k \\cos (ka) d^{\\dagger}_k d_k.\n",
    "$$\n",
    "I might write a full article on this later.  \n",
    "\n",
    "Performing a Jordan-Wigner transformation on the full Heisenberg model gives a four-operator scattering term.  The Bethe Ansatz, which I honestly don't know anything about, solves the full 1D Heisenburg Model, as well as some 1D Bose gas and Hubbard model problems.  Come back to me in many years, or ask a Russian mathematician.  \n",
    "\n",
    "## Noether's Theorem: Symmetries and Conserved Quantities\n",
    "\n",
    "While many people look to Marie Curie, I think Emily Noether is the best female scientist/ mathematician yet.  Her theorem is the single most beautiful piece of physics I have ever seen.  For each symmetry, there exists a conserved quantity.  Space translational symmetry gives us momentum conservation.  Time translational symmetry gives us energy conservation.  \n",
    " \n",
    "Conserved quantities save us so much in classical mechanics but save us even more in condensed matter physics.  By working out the symmetries of the problem, we can break the huge Hilbert space into smaller chunks of conserved quantities and only have a smaller problem with which to work.  \n",
    " \n",
    " So what are our conserved quantities?\n",
    "* Magnetization from 3*N Rotational symmetries\n",
    "* Momentum from N Translational symmetries\n",
    "* Parity from Time inversion symmetry\n",
    "\n",
    "I will only demonstrate magnetization conservation since we won't have to alter our basis to accommodate it.\n"
   ]
  },
  {
   "cell_type": "markdown",
   "metadata": {},
   "source": [
    "### One easy initialization cell.\n",
    "\n",
    "`n`: The number of spins we will deal with.  \n",
    "$2^n$: Dimension of our Hilbert Space.  Or more simply, the number of different eigenstates our system will have.\n",
    "\n",
    "Try to keep `n` around `5` until you know what your computer can handle.  "
   ]
  },
  {
   "cell_type": "code",
   "execution_count": 2,
   "metadata": {},
   "outputs": [
    {
     "data": {
      "text/plain": [
       "16"
      ]
     },
     "execution_count": 2,
     "metadata": {},
     "output_type": "execute_result"
    }
   ],
   "source": [
    "n=4\n",
    "nstates=2^n"
   ]
  },
  {
   "cell_type": "markdown",
   "metadata": {},
   "source": [
    "Exact Diagonalization is often memory limited.  Thus we want to represent our states in the most compact format possible.  Luckily, if we are dealing with spin $\\frac{1}{2}$, we can just use the `0`'s ($|\\downarrow \\rangle$) and `1`'s ($|\\uparrow \\rangle$) of the machine.  If you are dealing with higher spin, you can use base 3, 4, etc...  Part of the reason I needed to create this separate post was to examine working with binary data.\n",
    "\n",
    "We will keep our states stored as Int, but Julia has operations we can perform to look at the binary format and change the bits."
   ]
  },
  {
   "cell_type": "code",
   "execution_count": 4,
   "metadata": {},
   "outputs": [
    {
     "name": "stdout",
     "output_type": "stream",
     "text": [
      "binary form \t integer\n",
      "00000\t\t 0\n",
      "00001\t\t 1\n",
      "00010\t\t 2\n",
      "00011\t\t 3\n",
      "00100\t\t 4\n",
      "00101\t\t 5\n",
      "00110\t\t 6\n",
      "00111\t\t 7\n",
      "01000\t\t 8\n",
      "01001\t\t 9\n",
      "01010\t\t 10\n",
      "01011\t\t 11\n",
      "01100\t\t 12\n",
      "01101\t\t 13\n",
      "01110\t\t 14\n",
      "01111\t\t 15\n"
     ]
    }
   ],
   "source": [
    "# psi is an array of all our wavefunctions\n",
    "psi=convert.(Int8,collect(0:(nstates-1)) )\n",
    "\n",
    "# Lets look at each state both in binary and base 10\n",
    "println(\"binary form \\t integer\")\n",
    "for p in psi\n",
    "    println(bitstring(p)[end-n:end],\"\\t\\t \",p)\n",
    "end"
   ]
  },
  {
   "cell_type": "markdown",
   "metadata": {},
   "source": [
    "Because we will be using the powers of $2$ frequently in our calculations, we will store all them in an array. They are our placeholders, like $1,10,100,...$"
   ]
  },
  {
   "cell_type": "code",
   "execution_count": 5,
   "metadata": {},
   "outputs": [
    {
     "name": "stdout",
     "output_type": "stream",
     "text": [
      "binary form \t integer\n",
      "00001\t\t 1\n",
      "00010\t\t 2\n",
      "00100\t\t 4\n",
      "01000\t\t 8\n"
     ]
    }
   ],
   "source": [
    "powers2=convert.(Int8, 2.0 .^collect(0:(n-1)) )\n",
    "\n",
    "println(\"binary form \\t integer\")\n",
    "for p in powers2\n",
    "    println(bitstring(p)[end-n:end],\"\\t\\t \",p)\n",
    "end"
   ]
  },
  {
   "cell_type": "markdown",
   "metadata": {},
   "source": [
    "### & And Operation and Computing Magnetization\n",
    "\n",
    "Once we have magnetization for a state (a conserved quantity), we also have magnetization squared for the diagonals.\n",
    "\n",
    "We could continue to look at the binary format of a number by calling `bin`, but that converts the number to an array of strings.  So instead we want to perform bitwise operations to determine what the binary format looks like in terms of numbers.\n",
    "\n",
    "Julia supports bitwise <b>not, and, xor </b> (exclusive or), logical shift right, arithmetic shift right, and logical/ arithmetic shift left.  For our purposes, we will only be interested in <b>and</b> and <b>xor</b> .\n",
    "\n",
    "<b>and</b> takes in two inputs and produces one output, given by the following logic table: \n",
    "\n",
    "a|b|a&b\n",
    ":---:|:--:|:-----:\n",
    " 0 | 0 |  0  \n",
    " 1 | 0 |  0  \n",
    " 0 | 1 |  0  \n",
    " 1 | 1 |  1  \n",
    " \n",
    "Julia's `&` is the bitwise operation and.  That means if I combine two numbers, it states the overlap between the two. 1 overlaps with 1; 2 overlaps with 2; 3 overlaps with 2 and 1.\n",
    "\n",
    "We will use this to compute magnetization."
   ]
  },
  {
   "cell_type": "code",
   "execution_count": 21,
   "metadata": {},
   "outputs": [
    {
     "name": "stdout",
     "output_type": "stream",
     "text": [
      "001\t011\t001\n"
     ]
    }
   ],
   "source": [
    "println(bitstring(1)[end-2:end],\"\\t\", \n",
    "    bitstring(3)[end-2:end],\"\\t\", bitstring(1&3)[end-2:end])"
   ]
  },
  {
   "cell_type": "code",
   "execution_count": 6,
   "metadata": {},
   "outputs": [
    {
     "name": "stdout",
     "output_type": "stream",
     "text": [
      "String \tp&powers2 \tNormed \t\tMagentization\n",
      "00000\tInt8[0, 0, 0, 0]\t[0, 0, 0, 0]\t0.0\n",
      "00001\tInt8[1, 0, 0, 0]\t[1, 0, 0, 0]\t1.0\n",
      "00010\tInt8[0, 2, 0, 0]\t[0, 1, 0, 0]\t1.0\n",
      "00011\tInt8[1, 2, 0, 0]\t[1, 1, 0, 0]\t2.0\n",
      "00100\tInt8[0, 0, 4, 0]\t[0, 0, 1, 0]\t1.0\n",
      "00101\tInt8[1, 0, 4, 0]\t[1, 0, 1, 0]\t2.0\n",
      "00110\tInt8[0, 2, 4, 0]\t[0, 1, 1, 0]\t2.0\n",
      "00111\tInt8[1, 2, 4, 0]\t[1, 1, 1, 0]\t3.0\n",
      "01000\tInt8[0, 0, 0, 8]\t[0, 0, 0, 1]\t1.0\n",
      "01001\tInt8[1, 0, 0, 8]\t[1, 0, 0, 1]\t2.0\n",
      "01010\tInt8[0, 2, 0, 8]\t[0, 1, 0, 1]\t2.0\n",
      "01011\tInt8[1, 2, 0, 8]\t[1, 1, 0, 1]\t3.0\n",
      "01100\tInt8[0, 0, 4, 8]\t[0, 0, 1, 1]\t2.0\n",
      "01101\tInt8[1, 0, 4, 8]\t[1, 0, 1, 1]\t3.0\n",
      "01110\tInt8[0, 2, 4, 8]\t[0, 1, 1, 1]\t3.0\n",
      "01111\tInt8[1, 2, 4, 8]\t[1, 1, 1, 1]\t4.0\n"
     ]
    }
   ],
   "source": [
    "#initializing the magnetization array\n",
    "m=zeros(length(psi))\n",
    "\n",
    "println(\"String \\tp&powers2 \\tNormed \\t\\tMagentization\")\n",
    "for i in 1:length(psi)\n",
    "    \n",
    "    #Writing the magnetization\n",
    "    m[i]=sum(round.(Int,(psi[i].&powers2)./powers2))\n",
    "    \n",
    "    println(bitstring(psi[i])[end-n:end],\"\\t\",psi[i].&powers2,\"\\t\"\n",
    "    ,round.(Int,(psi[i].&powers2)./powers2),\"\\t\",m[i]) \n",
    "end"
   ]
  },
  {
   "cell_type": "markdown",
   "metadata": {},
   "source": [
    "## Masks and Permuting Indices\n",
    "\n",
    "The off diagonal (ladder) elements of the Hamiltonian are the permutation of two neighboring elements in the array.  We can permute two indices by combining a mask number with a bitwise XOR ⊻.  The symbol ⊻ is written using tab completion for the LaTeX syntax `\\xor`.  Otherwise, you can use the function `xor( , )`.  "
   ]
  },
  {
   "cell_type": "code",
   "execution_count": 24,
   "metadata": {},
   "outputs": [
    {
     "name": "stdout",
     "output_type": "stream",
     "text": [
      "Mask \ttest \tmasked test\n",
      "011\t001\t010\n"
     ]
    }
   ],
   "source": [
    "mask=Int8(3)\n",
    "testp=1\n",
    "println(\"Mask \\ttest \\tmasked test\")\n",
    "println(bitstring(mask)[end-2:end],'\\t',bitstring(testp)[end-2:end]\n",
    "    ,'\\t',bitstring(testp⊻mask)[end-2:end])"
   ]
  },
  {
   "cell_type": "markdown",
   "metadata": {},
   "source": [
    "But the mask 3 aka 11 only switches the spins in the first two positions.  I need to switch spins in any two adjacent locations.  I create this by summing together padded powers of two in order to get the 11 in the correct location."
   ]
  },
  {
   "cell_type": "code",
   "execution_count": 7,
   "metadata": {},
   "outputs": [
    {
     "name": "stdout",
     "output_type": "stream",
     "text": [
      "Mask base10 \tMask Binary \tSummed from\n",
      "3\t\t00011\t\t00001\t00010\n",
      "6\t\t00110\t\t00010\t00100\n",
      "12\t\t01100\t\t00100\t01000\n"
     ]
    }
   ],
   "source": [
    "mask=convert.(Int8,[0;powers2]+[powers2;0])\n",
    "mask=mask[2:end-1]\n",
    "\n",
    "println(\"Mask base10 \\tMask Binary \\tSummed from\")\n",
    "for i in 1:length(mask)\n",
    "    println(mask[i],\"\\t\\t\",bitstring(mask[i])[end-n:end],\"\\t\\t\",\n",
    "        bitstring(powers2[i])[end-n:end],\"\\t\",\n",
    "        bitstring(powers2[i+1])[end-n:end])\n",
    "end"
   ]
  },
  {
   "cell_type": "markdown",
   "metadata": {},
   "source": [
    "So now lets test how the first of our three masks behaves:\n",
    "We know that if the mask changes a 01 for a 10 (or vice versa) that the overall magnetization will not be changed.  So, we test is our mask is successful by comparing the remaining magnetization.  The rows offset by two spaces have matching magnetizations."
   ]
  },
  {
   "cell_type": "code",
   "execution_count": 32,
   "metadata": {},
   "outputs": [
    {
     "name": "stdout",
     "output_type": "stream",
     "text": [
      "Psi \tPsi \tMasked \t Masked\t \tmPsi  \tmMasked\n",
      "0\t00000\t3\t00011\t\t0.0\t2.0\n",
      "  1\t  00001\t  2\t  00010\t\t  1.0\t  1.0\n",
      "  2\t  00010\t  1\t  00001\t\t  1.0\t  1.0\n",
      "3\t00011\t0\t00000\t\t2.0\t0.0\n",
      "4\t00100\t7\t00111\t\t1.0\t3.0\n",
      "  5\t  00101\t  6\t  00110\t\t  2.0\t  2.0\n",
      "  6\t  00110\t  5\t  00101\t\t  2.0\t  2.0\n",
      "7\t00111\t4\t00100\t\t3.0\t1.0\n",
      "8\t01000\t11\t01011\t\t1.0\t3.0\n",
      "  9\t  01001\t  10\t  01010\t\t  2.0\t  2.0\n",
      "  10\t  01010\t  9\t  01001\t\t  2.0\t  2.0\n",
      "11\t01011\t8\t01000\t\t3.0\t1.0\n",
      "12\t01100\t15\t01111\t\t2.0\t4.0\n",
      "  13\t  01101\t  14\t  01110\t\t  3.0\t  3.0\n",
      "  14\t  01110\t  13\t  01101\t\t  3.0\t  3.0\n",
      "15\t01111\t12\t01100\t\t4.0\t2.0\n"
     ]
    }
   ],
   "source": [
    "println(\"Psi \\tPsi \\tMasked \\t Masked\\t \\tmPsi  \\tmMasked\")\n",
    "for p in psi\n",
    "    if m[p+1]==m[p.⊻mask[1]+1]\n",
    "        println(\"  \",p,\"\\t  \",bitstring(p)[end-n:end],\"\\t  \",\n",
    "            p.⊻mask[1],\"\\t  \",bitstring(p.⊻mask[1])[end-n:end],\n",
    "            \"\\t\\t  \",m[p+1],\"\\t  \",m[p.⊻mask[1]+1]) \n",
    "    else\n",
    "        println(p,'\\t',bitstring(p)[end-n:end],'\\t',\n",
    "            p.⊻mask[1],'\\t',bitstring(p.⊻mask[1])[end-n:end],\n",
    "            \"\\t\\t\",m[p+1],\"\\t\",m[p.⊻mask[1]+1]) \n",
    "    end\n",
    "end"
   ]
  },
  {
   "cell_type": "markdown",
   "metadata": {},
   "source": [
    "Now let's try the same thing, but for the second mask.  This changes the second and third spin."
   ]
  },
  {
   "cell_type": "code",
   "execution_count": 34,
   "metadata": {},
   "outputs": [
    {
     "name": "stdout",
     "output_type": "stream",
     "text": [
      "Psi \tPsi \tMasked \t Masked\t \tmPsi  \tmMasked\n",
      "0\t00000\t6\t00110\t\t0.0\t2.0\n",
      "1\t00001\t7\t00111\t\t1.0\t3.0\n",
      "  2\t  00010\t  4\t  00100\t\t  1.0\t  1.0\n",
      "  3\t  00011\t  5\t  00101\t\t  2.0\t  2.0\n",
      "  4\t  00100\t  2\t  00010\t\t  1.0\t  1.0\n",
      "  5\t  00101\t  3\t  00011\t\t  2.0\t  2.0\n",
      "6\t00110\t0\t00000\t\t2.0\t0.0\n",
      "7\t00111\t1\t00001\t\t3.0\t1.0\n",
      "8\t01000\t14\t01110\t\t1.0\t3.0\n",
      "9\t01001\t15\t01111\t\t2.0\t4.0\n",
      "  10\t  01010\t  12\t  01100\t\t  2.0\t  2.0\n",
      "  11\t  01011\t  13\t  01101\t\t  3.0\t  3.0\n",
      "  12\t  01100\t  10\t  01010\t\t  2.0\t  2.0\n",
      "  13\t  01101\t  11\t  01011\t\t  3.0\t  3.0\n",
      "14\t01110\t8\t01000\t\t3.0\t1.0\n",
      "15\t01111\t9\t01001\t\t4.0\t2.0\n"
     ]
    }
   ],
   "source": [
    "println(\"Psi \\tPsi \\tMasked \\t Masked\\t \\tmPsi  \\tmMasked\")\n",
    "for p in psi\n",
    "    if m[p+1]==m[p.⊻mask[2]+1]\n",
    "        println(\"  \",p,\"\\t  \",bitstring(p)[end-n:end],\"\\t  \",\n",
    "            p .⊻ mask[2],\"\\t  \",bitstring(p.⊻mask[2])[end-n:end],\n",
    "            \"\\t\\t  \",m[p+1],\"\\t  \",m[p.⊻mask[2]+1]) \n",
    "    else\n",
    "        println(p,'\\t',bitstring(p)[end-n:end],'\\t',\n",
    "            p .⊻ mask[2],'\\t',bitstring(p.⊻mask[2])[end-n:end],\n",
    "            \"\\t\\t\",m[p+1],\"\\t\",m[p.⊻mask[2]+1]) \n",
    "    end\n",
    "end"
   ]
  },
  {
   "cell_type": "markdown",
   "metadata": {},
   "source": [
    "That's it for background.  \n",
    "\n",
    "In the next few posts, I'll first cover breaking the matrix up according to the magnetization symmetry, and then the sorting and the searching that accompanies that change.  Then we will actually diagonalize the matrix and looks at the results.  \n",
    "\n",
    "In the meantime, go back and check out my post on <b>\"Jacobi Transformation of a Symmetric Matrix\"</b> for some information on this topic.  \n",
    "\n",
    "Happy physicsing :)"
   ]
  },
  {
   "cell_type": "markdown",
   "metadata": {},
   "source": [
    "\n",
    "[1]  @book{fradkin2013field,\n",
    "  title={Field theories of condensed matter physics},\n",
    "  author={Fradkin, Eduardo},\n",
    "  year={2013},\n",
    "  publisher={Cambridge University Press}\n",
    "}\n",
    "\n",
    "@inproceedings{sandvik2010computational,\n",
    "  title={Computational studies of quantum spin systems},\n",
    "  author={Sandvik, Anders W},\n",
    "  booktitle={AIP Conference Proceedings},\n",
    "  volume={1297},\n",
    "  number={1},\n",
    "  pages={135--338},\n",
    "  year={2010},\n",
    "  organization={AIP}\n",
    "}\n"
   ]
  },
  {
   "cell_type": "code",
   "execution_count": null,
   "metadata": {
    "collapsed": true
   },
   "outputs": [],
   "source": []
  }
 ],
 "metadata": {
  "anaconda-cloud": {},
  "kernelspec": {
   "display_name": "Julia 1.0.1",
   "language": "julia",
   "name": "julia-1.0"
  },
  "language_info": {
   "file_extension": ".jl",
   "mimetype": "application/julia",
   "name": "julia",
   "version": "1.0.1"
  },
  "toc": {
   "toc_cell": false,
   "toc_number_sections": false,
   "toc_section_display": "none",
   "toc_threshold": 6,
   "toc_window_display": true
  },
  "toc_position": {
   "left": "656.283px",
   "right": "27.65px",
   "top": "120px",
   "width": "198px"
  }
 },
 "nbformat": 4,
 "nbformat_minor": 1
}
