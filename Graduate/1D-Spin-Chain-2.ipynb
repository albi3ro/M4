{
 "cells": [
  {
   "cell_type": "markdown",
   "metadata": {},
   "source": [
    "# 1D Spin Chain Part 2\n",
    "### Christina Lee\n",
    "\n",
    "### Category: Grad\n",
    "\n",
    "### 1D Spin Chain Series\n",
    "* [Jacobi Transformation](../Numerics_Prog/Jacobi-Transformation.ipynb)\n",
    "* [1D Spin Chain Prerequisites](../Graduate/1D-Spin-Chain-Prerequisites.ipynb)\n",
    "* [1D Spin Chain Pt. 2](../Graduate/1D-Spin-Chain-2.ipynb)\n",
    "\n",
    "Check out part 1 for the theoretical background.  Today is all programming."
   ]
  },
  {
   "cell_type": "markdown",
   "metadata": {},
   "source": [
    "Remember to keep a reasonable number of spins, $n$.  The number of states goes as $2^n$, and the size of the Hamiltonian will go as $2^n \\times 2^n$.  A 10-spin chain will have over a million entries, before taking into account any memory reducing tricks.\n",
    "\n",
    "Here's the details of the largest spin-chains that fit on my machine which has 16GB of RAM and a 3.2 GHz Intel i5 processor:\n",
    "\n",
    "| n | m_z | t (min) | Memory (Gb) |\n",
    "|---|-----|---------|-------------|\n",
    "|16 | 8   | 1.5     | 2           |\n",
    "|18 | 9   | ?       |  >16        |\n",
    "|18 | 8   | 32.1    |   15.5      |\n",
    "\n",
    "I have included a file in this directory, ED.jl, that is just the necessary executable parts of this Jupyter notebook.  For large $n$, I recommend running ED.jl."
   ]
  },
  {
   "cell_type": "code",
   "execution_count": 1,
   "metadata": {},
   "outputs": [],
   "source": [
    "using LinearAlgebra"
   ]
  },
  {
   "cell_type": "markdown",
   "metadata": {},
   "source": [
    "Here, we input one parameter `n`, the number of spins in our chain.\n",
    "\n",
    "The program automatically calculates the parameter `nstates`."
   ]
  },
  {
   "cell_type": "code",
   "execution_count": 2,
   "metadata": {},
   "outputs": [
    {
     "data": {
      "text/plain": [
       "16"
      ]
     },
     "execution_count": 2,
     "metadata": {},
     "output_type": "execute_result"
    }
   ],
   "source": [
    "n=4\n",
    "nstates=2^n"
   ]
  },
  {
   "cell_type": "markdown",
   "metadata": {},
   "source": [
    "Now, let's write out all of our possible states in the $S^z$ basis."
   ]
  },
  {
   "cell_type": "code",
   "execution_count": 3,
   "metadata": {},
   "outputs": [
    {
     "name": "stdout",
     "output_type": "stream",
     "text": [
      "00000 0\n",
      "00001 1\n",
      "00010 2\n",
      "00011 3\n",
      "00100 4\n",
      "00101 5\n",
      "00110 6\n",
      "00111 7\n",
      "01000 8\n",
      "01001 9\n",
      "01010 10\n",
      "01011 11\n",
      "01100 12\n",
      "01101 13\n",
      "01110 14\n",
      "01111 15\n"
     ]
    }
   ],
   "source": [
    "psi=convert.(Int8, collect(0:(nstates-1)) )\n",
    "for p in psi\n",
    "    println(bitstring(p)[end-n:end],' ',p)\n",
    "end"
   ]
  },
  {
   "cell_type": "markdown",
   "metadata": {},
   "source": [
    "As in Part 1, we will be using the powers of 2 to compute magnetization, and masks to flip spins.  To not have to calculate them each time, we just store them in memory."
   ]
  },
  {
   "cell_type": "code",
   "execution_count": 4,
   "metadata": {},
   "outputs": [
    {
     "name": "stdout",
     "output_type": "stream",
     "text": [
      "00011\n",
      "00110\n",
      "01100\n",
      "01001\n"
     ]
    }
   ],
   "source": [
    "powers2=collect(0:(n-1));\n",
    "powers2=convert.(Int8, 2.0 .^powers2 );\n",
    "\n",
    "mask=[0;powers2]+[powers2;0];\n",
    "mask=convert.(Int8, [mask[2:end-1];[1+2^(n-1)]])\n",
    "\n",
    "for m in mask\n",
    "    println(bitstring(m)[end-n:end])\n",
    "end"
   ]
  },
  {
   "cell_type": "markdown",
   "metadata": {},
   "source": [
    "In Part 1, I used the number of up-spins as a proxy for magnetization.  Here, we need the <i>actual</i> magnetization, not a proxy.  An up-spin is $+1/2$ and a down-spin is $-1/2$.  We modify our magnetization by\n",
    "\n",
    "\\begin{equation}\n",
    "m=\\frac{1}{2}\\left(n_{\\uparrow}-n_{\\downarrow} \\right)\n",
    "= \\frac{1}{2} \\left( n_{\\uparrow}- \\left( n - n_{\\uparrow} \\right) \\right),\n",
    "\\end{equation}\n",
    "\n",
    "\\begin{equation}\n",
    "m = n_{\\uparrow} - \\frac{n}{2}.\n",
    "\\end{equation}"
   ]
  },
  {
   "cell_type": "code",
   "execution_count": 5,
   "metadata": {},
   "outputs": [
    {
     "data": {
      "text/plain": [
       "16-element Array{Float64,1}:\n",
       " -2.0\n",
       " -1.0\n",
       " -1.0\n",
       "  0.0\n",
       " -1.0\n",
       "  0.0\n",
       "  0.0\n",
       "  1.0\n",
       " -1.0\n",
       "  0.0\n",
       "  0.0\n",
       "  1.0\n",
       "  0.0\n",
       "  1.0\n",
       "  1.0\n",
       "  2.0"
      ]
     },
     "execution_count": 5,
     "metadata": {},
     "output_type": "execute_result"
    }
   ],
   "source": [
    "m=zeros(Int8,length(psi))\n",
    "for i in 1:nstates\n",
    "    m[i]=sum((psi[i].&powers2)./(powers2))\n",
    "end\n",
    "m=m.-n/2"
   ]
  },
  {
   "cell_type": "markdown",
   "metadata": {},
   "source": [
    "## Grouped by Magnetization\n",
    "\n",
    "Now that we have the magnetizations corresponding to each state, we perform some trickery that allows us to reduce the difficulty of our problem dramatically. \n",
    "\n",
    "Magnetization is a conserved quantity. By Noether's theorem, we know that the Hamiltonian is not going to mix states of different magnetizations. We only deal with one magnetization at a time, which is a much smaller problem.  "
   ]
  },
  {
   "cell_type": "code",
   "execution_count": 6,
   "metadata": {},
   "outputs": [
    {
     "data": {
      "text/plain": [
       "5-element Array{Float64,1}:\n",
       " -2.0\n",
       " -1.0\n",
       "  0.0\n",
       "  1.0\n",
       "  2.0"
      ]
     },
     "execution_count": 6,
     "metadata": {},
     "output_type": "execute_result"
    }
   ],
   "source": [
    "# The possible values for magnetization\n",
    "ma=collect(0:1:n).-n/2"
   ]
  },
  {
   "cell_type": "markdown",
   "metadata": {},
   "source": [
    "Now let's just pick out a single magnetization quantum number $mz$ and only work with that matrix for the rest of the post.  "
   ]
  },
  {
   "cell_type": "code",
   "execution_count": 10,
   "metadata": {},
   "outputs": [
    {
     "data": {
      "text/plain": [
       "6×3 Array{Any,2}:\n",
       "  3  \"00000011\"  0.0\n",
       "  5  \"00000101\"  0.0\n",
       "  6  \"00000110\"  0.0\n",
       "  9  \"00001001\"  0.0\n",
       " 10  \"00001010\"  0.0\n",
       " 12  \"00001100\"  0.0"
      ]
     },
     "execution_count": 10,
     "metadata": {},
     "output_type": "execute_result"
    }
   ],
   "source": [
    "# The magnetic quantum number\n",
    "mz=3\n",
    "\n",
    "# An array of states with the correct magnetization\n",
    "psi_mz=psi[m.==ma[mz]]\n",
    "\n",
    "[psi_mz bitstring.(psi_mz) m[psi_mz.+1]]"
   ]
  },
  {
   "cell_type": "markdown",
   "metadata": {},
   "source": [
    "And now creating the matrix.  "
   ]
  },
  {
   "cell_type": "code",
   "execution_count": 11,
   "metadata": {},
   "outputs": [
    {
     "data": {
      "text/plain": [
       "6×6 Array{Float64,2}:\n",
       " 0.0  0.0  0.0  0.0  0.0  0.0\n",
       " 0.0  0.0  0.0  0.0  0.0  0.0\n",
       " 0.0  0.0  0.0  0.0  0.0  0.0\n",
       " 0.0  0.0  0.0  0.0  0.0  0.0\n",
       " 0.0  0.0  0.0  0.0  0.0  0.0\n",
       " 0.0  0.0  0.0  0.0  0.0  0.0"
      ]
     },
     "execution_count": 11,
     "metadata": {},
     "output_type": "execute_result"
    }
   ],
   "source": [
    "dim=length(psi_mz)\n",
    "\n",
    "M=ma[mz]*(ma[mz]+1)*Matrix{Float64}(I,dim,dim)\n",
    "#M=zeros(Float64,dim,dim); use this for XY model"
   ]
  },
  {
   "cell_type": "markdown",
   "metadata": {},
   "source": [
    "Though we have significantly reduced the size of the matrix by restricting to one magnetization, we no longer have our states in `1,2,3,4...` order.  Their position in an array no longer corresponds to their value.  Therefore, we need a function to determine their index once we know their value.  \n",
    "\n",
    "We can find the index of the flipped state multiple different ways, but the simplest is by the Midpoint method.  We split the interval in half, and see if the value we are looking for is higher or lower than the middle point.  Then we get a new interval.  "
   ]
  },
  {
   "cell_type": "code",
   "execution_count": 12,
   "metadata": {},
   "outputs": [
    {
     "data": {
      "text/plain": [
       "findstate (generic function with 1 method)"
      ]
     },
     "execution_count": 12,
     "metadata": {},
     "output_type": "execute_result"
    }
   ],
   "source": [
    "function findstate(state,set)\n",
    "    \n",
    "    #Lower bound of interval\n",
    "    imin=1\n",
    "    #Upper bound of interval\n",
    "    imax=length(set)\n",
    "    \n",
    "    # checking if the lower bound is what we are looking for\n",
    "    if set[imin] == state\n",
    "        return imin\n",
    "    end\n",
    "    # checking if the upper bound is what we are looking for\n",
    "    if set[imax] == state\n",
    "        return imax\n",
    "    end\n",
    "    \n",
    "    # Initializing variables\n",
    "    # looking to see if we've found it yet\n",
    "    found=false\n",
    "    # how many times we've gone around the while loop\n",
    "    count=0\n",
    "    \n",
    "    while found==false && count < length(set)\n",
    "        \n",
    "        count+=1\n",
    "        tester=floor(Int,imin+(imax-imin)/2)\n",
    "\n",
    "        if state < set[tester]\n",
    "            imax=tester-1\n",
    "        elseif state > set[tester]\n",
    "            imin=tester+1\n",
    "        else\n",
    "            found=true\n",
    "            return tester\n",
    "        end\n",
    "    end\n",
    "    \n",
    "    if found == false\n",
    "        println(\"findstate never found a match\")\n",
    "        println(\"Are you sure the state is in that Array?\")\n",
    "    end\n",
    "    \n",
    "    return 0\n",
    "end"
   ]
  },
  {
   "cell_type": "markdown",
   "metadata": {},
   "source": [
    "Now time to generate the matrix.  \n",
    "\n",
    "For each state and for each pair of adjacent spins within that state, we apply the operator that flips adjacent spins, `$mask`.  Sometimes the adjacent spins will take on the same value, `00` or `11`.  In this circumstance, the off-diagonal part of the Hamiltonian would not act on those spins.  The state generated by the operator would have a different magnetization, and we can neglect that pair.  \n",
    "\n",
    " If the new state produced by this process has the same magnetization, we know that the flip exists in the Hamiltonian, and add the entry to the matrix.  \n",
    "\n",
    "In this algorithm, we do end up going over each pair twice, but I have yet to figure out how to take advantage of the degeneracy to cut the calculation in half.  Let me know if you have a better way to write this."
   ]
  },
  {
   "cell_type": "code",
   "execution_count": 13,
   "metadata": {},
   "outputs": [
    {
     "name": "stdout",
     "output_type": "stream",
     "text": [
      "00011\t00101\n",
      "00011\t01010\n",
      "00101\t00110\n",
      "00101\t00011\n",
      "00101\t01001\n",
      "00101\t01100\n",
      "00110\t00101\n",
      "00110\t01010\n",
      "01001\t01010\n",
      "01001\t00101\n",
      "01010\t01001\n",
      "01010\t01100\n",
      "01010\t00110\n",
      "01010\t00011\n",
      "01100\t01010\n",
      "01100\t00101\n"
     ]
    }
   ],
   "source": [
    "mp=sum(psi_mz[1].&powers2./powers2)\n",
    "\n",
    "for ii in 1:length(psi_mz)\n",
    "    p=psi_mz[ii]\n",
    "    for jj in 1:n\n",
    "        flipped=p⊻mask[jj]\n",
    "        if sum((flipped.&powers2)./powers2) == mp\n",
    "            tester=findstate(flipped,psi_mz)\n",
    "            M[ii,tester]=.5\n",
    "            M[tester,ii]=.5\n",
    "            println(bitstring(p)[end-n:end],'\\t',bitstring(flipped)[end-n:end])\n",
    "        end\n",
    "            \n",
    "    end\n",
    "end"
   ]
  },
  {
   "cell_type": "code",
   "execution_count": 14,
   "metadata": {},
   "outputs": [
    {
     "data": {
      "text/plain": [
       "6×6 Array{Float64,2}:\n",
       " 0.0  0.5  0.0  0.0  0.5  0.0\n",
       " 0.5  0.0  0.5  0.5  0.0  0.5\n",
       " 0.0  0.5  0.0  0.0  0.5  0.0\n",
       " 0.0  0.5  0.0  0.0  0.5  0.0\n",
       " 0.5  0.0  0.5  0.5  0.0  0.5\n",
       " 0.0  0.5  0.0  0.0  0.5  0.0"
      ]
     },
     "execution_count": 14,
     "metadata": {},
     "output_type": "execute_result"
    }
   ],
   "source": [
    "M"
   ]
  },
  {
   "cell_type": "code",
   "execution_count": 15,
   "metadata": {},
   "outputs": [
    {
     "data": {
      "text/plain": [
       "6-element Array{Float64,1}:\n",
       " -1.4142135623730943    \n",
       "  0.0                   \n",
       "  0.0                   \n",
       "  0.0                   \n",
       "  1.9984014443252818e-15\n",
       "  1.414213562373095     "
      ]
     },
     "metadata": {},
     "output_type": "display_data"
    },
    {
     "data": {
      "text/plain": [
       "6×6 Array{Float64,2}:\n",
       "  0.353553   0.0       -0.211325   0.788675  -0.288675    -0.353553\n",
       " -0.5        0.707107   0.0        0.0       -5.1279e-16  -0.5     \n",
       "  0.353553   0.0        0.788675  -0.211325  -0.288675    -0.353553\n",
       "  0.353553   0.0       -0.57735   -0.57735   -0.288675    -0.353553\n",
       " -0.5       -0.707107   0.0        0.0       -5.1279e-16  -0.5     \n",
       "  0.353553   0.0        0.0        0.0        0.866025    -0.353553"
      ]
     },
     "metadata": {},
     "output_type": "display_data"
    }
   ],
   "source": [
    "F=eigen(M)\n",
    "display(F.values)\n",
    "display(F.vectors)"
   ]
  },
  {
   "cell_type": "markdown",
   "metadata": {},
   "source": [
    "Now we have eigenvalues and eigenvectors! You just solved the Heisenburg Spin Chain! \n",
    "\n",
    "In my next post, I will analyze what this tells us about the system and what we can do with the information."
   ]
  },
  {
   "cell_type": "markdown",
   "metadata": {},
   "source": [
    "@inproceedings{sandvik2010computational,\n",
    "  title={Computational studies of quantum spin systems},\n",
    "  author={Sandvik, Anders W},\n",
    "  booktitle={AIP Conference Proceedings},\n",
    "  volume={1297},\n",
    "  number={1},\n",
    "  pages={135--338},\n",
    "  year={2010},\n",
    "  organization={AIP}\n",
    "}"
   ]
  },
  {
   "cell_type": "code",
   "execution_count": null,
   "metadata": {},
   "outputs": [],
   "source": []
  }
 ],
 "metadata": {
  "@webio": {
   "lastCommId": null,
   "lastKernelId": null
  },
  "anaconda-cloud": {},
  "kernelspec": {
   "display_name": "Julia 1.0.1",
   "language": "julia",
   "name": "julia-1.0"
  },
  "language_info": {
   "file_extension": ".jl",
   "mimetype": "application/julia",
   "name": "julia",
   "version": "1.0.1"
  },
  "toc": {
   "toc_cell": false,
   "toc_number_sections": false,
   "toc_section_display": "none",
   "toc_threshold": 6,
   "toc_window_display": true
  }
 },
 "nbformat": 4,
 "nbformat_minor": 1
}
